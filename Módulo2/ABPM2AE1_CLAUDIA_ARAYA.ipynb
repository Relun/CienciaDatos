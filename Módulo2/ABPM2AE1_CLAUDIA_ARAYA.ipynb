{
  "nbformat": 4,
  "nbformat_minor": 0,
  "metadata": {
    "colab": {
      "provenance": []
    },
    "kernelspec": {
      "name": "python3",
      "display_name": "Python 3"
    },
    "language_info": {
      "name": "python"
    }
  },
  "cells": [
    {
      "cell_type": "markdown",
      "source": [
        "1. Crear un vector con valores dentro del rango 10 a 49."
      ],
      "metadata": {
        "id": "7Hw7c1ughQgj"
      }
    },
    {
      "cell_type": "code",
      "execution_count": 6,
      "metadata": {
        "colab": {
          "base_uri": "https://localhost:8080/"
        },
        "id": "UiNpg1lThMU4",
        "outputId": "0072b0e4-5a74-4d6c-e736-1acf94c9bfb4"
      },
      "outputs": [
        {
          "output_type": "execute_result",
          "data": {
            "text/plain": [
              "array([10, 11, 12, 13, 14, 15, 16, 17, 18, 19, 20, 21, 22, 23, 24, 25, 26,\n",
              "       27, 28, 29, 30, 31, 32, 33, 34, 35, 36, 37, 38, 39, 40, 41, 42, 43,\n",
              "       44, 45, 46, 47, 48, 49])"
            ]
          },
          "metadata": {},
          "execution_count": 6
        }
      ],
      "source": [
        "import numpy as np\n",
        "\n",
        "vector = np.arange(10, 50) #arange sirve para crear vectores, se entrega el rango sumándole 1 al final\n",
        "vector"
      ]
    },
    {
      "cell_type": "markdown",
      "source": [
        "4. Crea un arreglo NumPy de tamaño 5x5 lleno de ceros."
      ],
      "metadata": {
        "id": "xNEa7aJDyrsI"
      }
    },
    {
      "cell_type": "code",
      "source": [
        "np.zeros((5,5))"
      ],
      "metadata": {
        "colab": {
          "base_uri": "https://localhost:8080/"
        },
        "id": "89o8of3DucZL",
        "outputId": "1b159600-adfa-476f-99b4-2100274bd060"
      },
      "execution_count": 16,
      "outputs": [
        {
          "output_type": "execute_result",
          "data": {
            "text/plain": [
              "array([[0., 0., 0., 0., 0.],\n",
              "       [0., 0., 0., 0., 0.],\n",
              "       [0., 0., 0., 0., 0.],\n",
              "       [0., 0., 0., 0., 0.],\n",
              "       [0., 0., 0., 0., 0.]])"
            ]
          },
          "metadata": {},
          "execution_count": 16
        }
      ]
    },
    {
      "cell_type": "markdown",
      "source": [
        "5. Crea un arreglo NumPy de tamaño 3x3 lleno de unos."
      ],
      "metadata": {
        "id": "Oje8cnJmy9qk"
      }
    },
    {
      "cell_type": "code",
      "source": [
        "np.ones((3,3))"
      ],
      "metadata": {
        "colab": {
          "base_uri": "https://localhost:8080/"
        },
        "id": "eQzB6Zmuy-oM",
        "outputId": "78cb352d-06e3-407d-dab3-cdf22ad048a5"
      },
      "execution_count": 17,
      "outputs": [
        {
          "output_type": "execute_result",
          "data": {
            "text/plain": [
              "array([[1., 1., 1.],\n",
              "       [1., 1., 1.],\n",
              "       [1., 1., 1.]])"
            ]
          },
          "metadata": {},
          "execution_count": 17
        }
      ]
    },
    {
      "cell_type": "markdown",
      "source": [
        "7. Genera una matriz de tamaño 5x5 con valores aleatorios enteros\n",
        "entre 1 y 100.\n"
      ],
      "metadata": {
        "id": "V_khIw6b4KUT"
      }
    },
    {
      "cell_type": "code",
      "source": [
        "print(np.random.randint(1,100,(5,5)))\n"
      ],
      "metadata": {
        "colab": {
          "base_uri": "https://localhost:8080/"
        },
        "id": "jaIMXycT2BSa",
        "outputId": "156fc5bc-557c-4371-a84b-b207a71f878b"
      },
      "execution_count": 28,
      "outputs": [
        {
          "output_type": "stream",
          "name": "stdout",
          "text": [
            "[[97 86 31 20 18]\n",
            " [85 79 27 49 21]\n",
            " [69 37 24 39  6]\n",
            " [84 70  4 75 54]\n",
            " [46 87 76 49 31]]\n"
          ]
        }
      ]
    },
    {
      "cell_type": "markdown",
      "source": [
        "10. Crear un arreglo con elementos del 1 al 10 y seleccionar solo los pares"
      ],
      "metadata": {
        "id": "neFvz-1DuKdS"
      }
    },
    {
      "cell_type": "code",
      "source": [
        "arreglos_pares = np.arange(1, 11)\n",
        "print(arreglos_pares[(arreglos_pares % 2 == 0)])\n",
        "\n"
      ],
      "metadata": {
        "colab": {
          "base_uri": "https://localhost:8080/"
        },
        "id": "-1kIWuIvuNVc",
        "outputId": "503f3874-5c7a-4070-be57-7cc0990a0b00"
      },
      "execution_count": 13,
      "outputs": [
        {
          "output_type": "stream",
          "name": "stdout",
          "text": [
            "[ 2  4  6  8 10]\n"
          ]
        }
      ]
    }
  ]
}