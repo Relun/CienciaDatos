{
  "nbformat": 4,
  "nbformat_minor": 0,
  "metadata": {
    "colab": {
      "provenance": []
    },
    "kernelspec": {
      "name": "python3",
      "display_name": "Python 3"
    },
    "language_info": {
      "name": "python"
    }
  },
  "cells": [
    {
      "cell_type": "markdown",
      "source": [
        "1. En esta oportunidad vamos a utilizar los datos que ocupamos en el\n",
        "módulo 1, nuestros datos de compra en supermercado"
      ],
      "metadata": {
        "id": "rviDyJiZgl_R"
      }
    },
    {
      "cell_type": "markdown",
      "source": [
        "a. Junto a este archivo, se encuentran los archivos csv para\n",
        "clientes, productos, boletas y detalle. Cargue, los datos de los\n",
        "archivos en sus respectivas variables."
      ],
      "metadata": {
        "id": "z2IrM-Dhgo_5"
      }
    },
    {
      "cell_type": "code",
      "source": [
        "import pandas as pd\n",
        "from datetime import datetime\n",
        "import numpy as np\n",
        "\n",
        "archivo_productos = 'productos.csv'\n",
        "archivo_boletas = 'boletas.csv'\n",
        "archivo_clientes = 'clientes.csv'\n",
        "archivo_detalle = 'detalle.csv'\n"
      ],
      "metadata": {
        "id": "u0jcWuv-oXDc"
      },
      "execution_count": 100,
      "outputs": []
    },
    {
      "cell_type": "code",
      "source": [
        "#con read_csv de pandas, leemos los archivos csv que cargamos\n",
        "df_productos = pd.read_csv(archivo_productos, encoding='unicode_escape')\n",
        "print(df_productos)\n"
      ],
      "metadata": {
        "id": "M_04dkFJgoJc",
        "colab": {
          "base_uri": "https://localhost:8080/"
        },
        "outputId": "f5305394-89e2-40a9-c55f-0f1df1fb1089"
      },
      "execution_count": 101,
      "outputs": [
        {
          "output_type": "stream",
          "name": "stdout",
          "text": [
            "    codigo            nombre  precio\n",
            "0      101             Arroz    1500\n",
            "1      102            Fideos    1200\n",
            "2      103  Aceite de cocina   18000\n",
            "3      104            Harina    2000\n",
            "4      105             Leche    3000\n",
            "5      106            Azúcar    2500\n",
            "6      107              Café    5000\n",
            "7      108               Pan    1500\n",
            "8      109          Galletas    3500\n",
            "9      110       Mantequilla    2800\n",
            "10     111             Queso    6000\n",
            "11     112             Yogur    2000\n",
            "12     113      Agua mineral    1200\n",
            "13     114             Jugos    4000\n",
            "14     115    Frutas frescas    7000\n",
            "15     116          Verduras    5500\n",
            "16     117    Carne de pollo    4800\n",
            "17     118      Carne de res   10000\n",
            "18     119           Pescado    9000\n",
            "19     120            Helado    2500\n"
          ]
        }
      ]
    },
    {
      "cell_type": "code",
      "source": [
        "df_boletas = pd.read_csv(archivo_boletas)\n",
        "print(df_boletas)\n"
      ],
      "metadata": {
        "id": "X8vDeuCdijSm",
        "colab": {
          "base_uri": "https://localhost:8080/"
        },
        "outputId": "9727f2e8-fffd-476c-aec5-8871a14d1e4a"
      },
      "execution_count": 102,
      "outputs": [
        {
          "output_type": "stream",
          "name": "stdout",
          "text": [
            "    numero       fecha rut_cliente\n",
            "0        1  2023-11-05  12345678-9\n",
            "1        2  2023-11-07  87654321-0\n",
            "2        3  2023-11-09  23456789-1\n",
            "3        4  2023-11-12  34567890-2\n",
            "4        5  2023-11-15  45678901-3\n",
            "5        6  2023-11-18  56789012-4\n",
            "6        7  2023-11-21  67890123-5\n",
            "7        8  2023-11-24  78901234-6\n",
            "8        9  2023-11-27  89012345-7\n",
            "9       10  2023-11-29  90123456-8\n",
            "10      11  2023-11-02  11223344-5\n",
            "11      12  2023-11-04  33445566-7\n",
            "12      13  2023-11-06  55667788-9\n",
            "13      14  2023-11-08  77889900-1\n",
            "14      15  2023-11-11  99001122-3\n",
            "15      16  2023-11-14  11223344-5\n",
            "16      17  2023-11-17  33445566-7\n",
            "17      18  2023-11-20  55667788-9\n",
            "18      19  2023-11-23  77889900-1\n",
            "19      20  2023-11-26  99001122-3\n",
            "20      21  2023-11-02  11223344-5\n",
            "21      22  2023-11-14  11223344-5\n",
            "22      23  2023-11-05  12345678-9\n",
            "23      24  2023-11-09  23456789-1\n"
          ]
        }
      ]
    },
    {
      "cell_type": "code",
      "source": [
        "df_clientes = pd.read_csv(archivo_clientes, encoding='unicode_escape')\n",
        "#print(df_clientes)\n",
        "df_clientes_limpio = df_clientes.dropna(how='any', axis=0, subset='fecha_nacimiento', inplace=False) #limpia la columna fecha_nacimiento, sacando los valores nan\n",
        "print(df_clientes_limpio)\n",
        "\n",
        "df_clientes_limpio.info() #esto me sirve para obtener los tipos de datos que tiene el df\n"
      ],
      "metadata": {
        "colab": {
          "base_uri": "https://localhost:8080/"
        },
        "id": "LPkiPSg_ipg5",
        "outputId": "510f8220-d136-4bda-e2d8-1985e1e5a5da"
      },
      "execution_count": 103,
      "outputs": [
        {
          "output_type": "stream",
          "name": "stdout",
          "text": [
            "           rut             nombre                direccion        comuna  \\\n",
            "0   11223344-4      Tomás Ramírez                      NaN         Arica   \n",
            "1   11223344-5        Laura Rojas        Calle Virtual 567   Antofagasta   \n",
            "2   12345678-9         Juan Perez          Calle Falsa 123      Santiago   \n",
            "3   23456789-1    Pedro Rodríguez                      NaN    Valparaíso   \n",
            "4   33445566-5      Camila Torres    Calle Cibernética 456           NaN   \n",
            "5   33445566-7         Mateo Diaz                      NaN  Viña del Mar   \n",
            "6   34567890-2     Carla González      Calle Inventada 789           NaN   \n",
            "8   55667788-6      Matias Castro   Avenida Innovación 321           NaN   \n",
            "9   55667788-9  Valentina Herrera  Avenida Tecnológica 123           NaN   \n",
            "10  56789012-4          Ana Lopez                      NaN           NaN   \n",
            "11  67890123-5    Luisa Fernández       Calle Ficticia 321      Rancagua   \n",
            "12  77889900-1       Martin Gómez                      NaN       Iquique   \n",
            "14  78901234-6      Javier Torres   Avenida de Ensueño 654        Temuco   \n",
            "15  87654321-0      Maria Sánchez   Avenida Imaginaria 456    Concepción   \n",
            "18  99001122-3        Sofía Pérez        Calle Digital 789           NaN   \n",
            "19  99001122-8       Nicolás Ruiz   Calle Programación 210           NaN   \n",
            "\n",
            "   fecha_nacimiento     telefono                  email  \n",
            "0        1994-12-31          NaN      tomas@example.com  \n",
            "1        1998-07-12  945678321.0      laura@example.com  \n",
            "2        2000-05-15  912345678.0       juan@example.com  \n",
            "3        1988-03-10  912345678.0      pedro@example.com  \n",
            "4        1993-02-14  977894512.0     camila@example.com  \n",
            "5        2002-02-28  967894512.0      mateo@example.com  \n",
            "6        1999-12-05  934567890.0      carla@example.com  \n",
            "8        1992-06-08  923478965.0                    NaN  \n",
            "9        1997-04-05  923478965.0  valentina@example.com  \n",
            "10       1990-08-18  978901234.0        ana@example.com  \n",
            "11       2005-04-25          NaN      luisa@example.com  \n",
            "12       1996-10-17  955678902.0     martin@example.com  \n",
            "14       1985-11-30  923456789.0                    NaN  \n",
            "15       1995-10-20  987654321.0      maria@example.com  \n",
            "18       2001-09-22  912345672.0      sofia@example.com  \n",
            "19       2003-11-03  955678902.0    nicolas@example.com  \n",
            "<class 'pandas.core.frame.DataFrame'>\n",
            "Int64Index: 16 entries, 0 to 19\n",
            "Data columns (total 7 columns):\n",
            " #   Column            Non-Null Count  Dtype  \n",
            "---  ------            --------------  -----  \n",
            " 0   rut               16 non-null     object \n",
            " 1   nombre            16 non-null     object \n",
            " 2   direccion         11 non-null     object \n",
            " 3   comuna            9 non-null      object \n",
            " 4   fecha_nacimiento  16 non-null     object \n",
            " 5   telefono          14 non-null     float64\n",
            " 6   email             14 non-null     object \n",
            "dtypes: float64(1), object(6)\n",
            "memory usage: 1.0+ KB\n"
          ]
        }
      ]
    },
    {
      "cell_type": "code",
      "source": [
        "df_detalle = pd.read_csv(archivo_detalle)\n",
        "print(df_detalle)"
      ],
      "metadata": {
        "id": "ZdbCFHE1irNs",
        "colab": {
          "base_uri": "https://localhost:8080/"
        },
        "outputId": "1eee0d8c-bd27-4af7-91d0-b604cdfe31d9"
      },
      "execution_count": 104,
      "outputs": [
        {
          "output_type": "stream",
          "name": "stdout",
          "text": [
            "    numero_boleta  codigo_producto  cantidad\n",
            "0               1              101         3\n",
            "1               1              103         6\n",
            "2               1              106         2\n",
            "3               2              102         5\n",
            "4               2              104         1\n",
            "5               3              107         8\n",
            "6               3              110         4\n",
            "7               4              112         7\n",
            "8               5              113         3\n",
            "9               6              115         2\n",
            "10              7              116         5\n",
            "11              7              119         9\n",
            "12              8              120         4\n",
            "13              9              101         6\n",
            "14              9              104         2\n",
            "15             10              105         1\n",
            "16             10              106         3\n",
            "17             11              107         4\n",
            "18             11              109         7\n",
            "19             12              111         5\n",
            "20             13              112         8\n",
            "21             14              113         3\n",
            "22             14              116         1\n",
            "23             15              117         6\n",
            "24             16              119         4\n",
            "25             17              120         2\n",
            "26             18              101         9\n",
            "27             18              102         2\n",
            "28             18              103         5\n",
            "29             19              104         3\n",
            "30             19              106         7\n",
            "31             20              107         1\n",
            "32             21              120         4\n",
            "33             21              102         5\n",
            "34             22              104         1\n",
            "35             23              101         6\n",
            "36             23              104         2\n",
            "37             23              105         1\n",
            "38             24              116        10\n",
            "39             24              119        20\n"
          ]
        }
      ]
    },
    {
      "cell_type": "markdown",
      "source": [
        "b. Ahora que tenemos los datos, podemos trabajar con ellos. Lo\n",
        "primero que haremos será calcular las edades. Para esto,\n",
        "agregue una nueva columna a los datos de los clientes, que\n",
        "calcule la edad a partir de su fecha de nacimiento."
      ],
      "metadata": {
        "id": "H3UFI4lagroK"
      }
    },
    {
      "cell_type": "code",
      "source": [
        "#acá usé df_clientes_limpios ya que no considera a los clientes con fecha_nacimiento nan\n",
        "\n",
        "#modifica el formato de fecha_ncimiento, que originalmente es una cadena (object), lo pasa a formato fecha para hacer la resta de fechas\n",
        "df_clientes_limpio['fecha_nacimiento'] = pd.to_datetime(df_clientes_limpio['fecha_nacimiento'])\n",
        "df_clientes_limpio.info()\n",
        "\n",
        "fecha_actual = datetime.now() #fecha actual\n",
        "#calcula la edad, restando fecha_nacimiento con fecha actual  y agrega la columna edad\n",
        "#astype pasa la edad a formato años (float)\n",
        "df_clientes_limpio['edad'] = (fecha_actual - df_clientes_limpio['fecha_nacimiento']).astype('<m8[Y]')\n",
        "print(df_clientes_limpio)\n",
        "#print(df_clientes_limpio['edad'])\n",
        "#df_clientes_limpio.info()\n"
      ],
      "metadata": {
        "colab": {
          "base_uri": "https://localhost:8080/"
        },
        "id": "A-vzCcIskAlJ",
        "outputId": "44552369-d32b-4343-f25d-97498d9a987e"
      },
      "execution_count": 105,
      "outputs": [
        {
          "output_type": "stream",
          "name": "stdout",
          "text": [
            "<class 'pandas.core.frame.DataFrame'>\n",
            "Int64Index: 16 entries, 0 to 19\n",
            "Data columns (total 7 columns):\n",
            " #   Column            Non-Null Count  Dtype         \n",
            "---  ------            --------------  -----         \n",
            " 0   rut               16 non-null     object        \n",
            " 1   nombre            16 non-null     object        \n",
            " 2   direccion         11 non-null     object        \n",
            " 3   comuna            9 non-null      object        \n",
            " 4   fecha_nacimiento  16 non-null     datetime64[ns]\n",
            " 5   telefono          14 non-null     float64       \n",
            " 6   email             14 non-null     object        \n",
            "dtypes: datetime64[ns](1), float64(1), object(5)\n",
            "memory usage: 1.0+ KB\n",
            "           rut             nombre                direccion        comuna  \\\n",
            "0   11223344-4      Tomás Ramírez                      NaN         Arica   \n",
            "1   11223344-5        Laura Rojas        Calle Virtual 567   Antofagasta   \n",
            "2   12345678-9         Juan Perez          Calle Falsa 123      Santiago   \n",
            "3   23456789-1    Pedro Rodríguez                      NaN    Valparaíso   \n",
            "4   33445566-5      Camila Torres    Calle Cibernética 456           NaN   \n",
            "5   33445566-7         Mateo Diaz                      NaN  Viña del Mar   \n",
            "6   34567890-2     Carla González      Calle Inventada 789           NaN   \n",
            "8   55667788-6      Matias Castro   Avenida Innovación 321           NaN   \n",
            "9   55667788-9  Valentina Herrera  Avenida Tecnológica 123           NaN   \n",
            "10  56789012-4          Ana Lopez                      NaN           NaN   \n",
            "11  67890123-5    Luisa Fernández       Calle Ficticia 321      Rancagua   \n",
            "12  77889900-1       Martin Gómez                      NaN       Iquique   \n",
            "14  78901234-6      Javier Torres   Avenida de Ensueño 654        Temuco   \n",
            "15  87654321-0      Maria Sánchez   Avenida Imaginaria 456    Concepción   \n",
            "18  99001122-3        Sofía Pérez        Calle Digital 789           NaN   \n",
            "19  99001122-8       Nicolás Ruiz   Calle Programación 210           NaN   \n",
            "\n",
            "   fecha_nacimiento     telefono                  email  edad  \n",
            "0        1994-12-31          NaN      tomas@example.com  29.0  \n",
            "1        1998-07-12  945678321.0      laura@example.com  25.0  \n",
            "2        2000-05-15  912345678.0       juan@example.com  23.0  \n",
            "3        1988-03-10  912345678.0      pedro@example.com  36.0  \n",
            "4        1993-02-14  977894512.0     camila@example.com  31.0  \n",
            "5        2002-02-28  967894512.0      mateo@example.com  22.0  \n",
            "6        1999-12-05  934567890.0      carla@example.com  24.0  \n",
            "8        1992-06-08  923478965.0                    NaN  31.0  \n",
            "9        1997-04-05  923478965.0  valentina@example.com  26.0  \n",
            "10       1990-08-18  978901234.0        ana@example.com  33.0  \n",
            "11       2005-04-25          NaN      luisa@example.com  18.0  \n",
            "12       1996-10-17  955678902.0     martin@example.com  27.0  \n",
            "14       1985-11-30  923456789.0                    NaN  38.0  \n",
            "15       1995-10-20  987654321.0      maria@example.com  28.0  \n",
            "18       2001-09-22  912345672.0      sofia@example.com  22.0  \n",
            "19       2003-11-03  955678902.0    nicolas@example.com  20.0  \n"
          ]
        },
        {
          "output_type": "stream",
          "name": "stderr",
          "text": [
            "<ipython-input-105-c65e1db2a5e9>:4: SettingWithCopyWarning: \n",
            "A value is trying to be set on a copy of a slice from a DataFrame.\n",
            "Try using .loc[row_indexer,col_indexer] = value instead\n",
            "\n",
            "See the caveats in the documentation: https://pandas.pydata.org/pandas-docs/stable/user_guide/indexing.html#returning-a-view-versus-a-copy\n",
            "  df_clientes_limpio['fecha_nacimiento'] = pd.to_datetime(df_clientes_limpio['fecha_nacimiento'])\n",
            "<ipython-input-105-c65e1db2a5e9>:10: SettingWithCopyWarning: \n",
            "A value is trying to be set on a copy of a slice from a DataFrame.\n",
            "Try using .loc[row_indexer,col_indexer] = value instead\n",
            "\n",
            "See the caveats in the documentation: https://pandas.pydata.org/pandas-docs/stable/user_guide/indexing.html#returning-a-view-versus-a-copy\n",
            "  df_clientes_limpio['edad'] = (fecha_actual - df_clientes_limpio['fecha_nacimiento']).astype('<m8[Y]')\n"
          ]
        }
      ]
    },
    {
      "cell_type": "markdown",
      "source": [
        "c. Calcular el promedio de edad."
      ],
      "metadata": {
        "id": "QhqKtDvhgt4M"
      }
    },
    {
      "cell_type": "code",
      "source": [
        "promedio_edad = df_clientes_limpio['edad'].mean() #mean calcula el promedio de la columna edad y guarda el resultado en la variable promedio_edad\n",
        "print(\"El promedio de edad es:\", promedio_edad)"
      ],
      "metadata": {
        "colab": {
          "base_uri": "https://localhost:8080/"
        },
        "id": "1C5MlcBzuzoY",
        "outputId": "c1cdb389-fcea-4eb0-c6b6-20899134ea3d"
      },
      "execution_count": 106,
      "outputs": [
        {
          "output_type": "stream",
          "name": "stdout",
          "text": [
            "El promedio de edad es: 27.0625\n"
          ]
        }
      ]
    },
    {
      "cell_type": "markdown",
      "source": [
        "d. ¿Cuál es el cliente con la edad mayor?"
      ],
      "metadata": {
        "id": "7dyaZqw-gv2o"
      }
    },
    {
      "cell_type": "code",
      "source": [
        "mayor_edad = df_clientes_limpio['edad'].max() #método max obtiene el valor mayor de la columna edad\n",
        "print(f\"La mayor edad es: {mayor_edad}\")\n",
        "\n",
        "cliente_mayor_edad = df_clientes_limpio[df_clientes_limpio['edad'] == mayor_edad] #trae la fila con todos los datos del cliente que tiene la mayor edad\n",
        "print(f\"El cliente con la mayor edad es: {cliente_mayor_edad}\")\n"
      ],
      "metadata": {
        "colab": {
          "base_uri": "https://localhost:8080/"
        },
        "id": "Gp-u864OvYwj",
        "outputId": "5b01439f-706d-436e-d1d8-e2848d3cd8ec"
      },
      "execution_count": 107,
      "outputs": [
        {
          "output_type": "stream",
          "name": "stdout",
          "text": [
            "La mayor edad es: 38.0\n",
            "El cliente con la mayor edad es:            rut         nombre               direccion  comuna  \\\n",
            "14  78901234-6  Javier Torres  Avenida de Ensueño 654  Temuco   \n",
            "\n",
            "   fecha_nacimiento     telefono email  edad  \n",
            "14       1985-11-30  923456789.0   NaN  38.0  \n"
          ]
        }
      ]
    },
    {
      "cell_type": "markdown",
      "source": [
        "e. ¿Cuál es el menor?"
      ],
      "metadata": {
        "id": "AUXuYB72gyEn"
      }
    },
    {
      "cell_type": "code",
      "source": [
        "menor_edad = df_clientes_limpio['edad'].min() #método min obtiene el valor menor de la columna edad\n",
        "print(f\"La menor edad es: {menor_edad}\")\n",
        "\n",
        "cliente_menor_edad = df_clientes_limpio[df_clientes_limpio['edad'] == menor_edad] #trae la fila con todos los datos del cliente que tiene la mayor edad\n",
        "#print(f\"El cliente con la menor edad es: {cliente_menor_edad}\")\n",
        "print(\"Los datos del cliente con menor edad:\")\n",
        "print(cliente_menor_edad)\n"
      ],
      "metadata": {
        "colab": {
          "base_uri": "https://localhost:8080/"
        },
        "id": "hlPNd3kewxGp",
        "outputId": "f1474199-7de5-44dd-9909-c23947524793"
      },
      "execution_count": 108,
      "outputs": [
        {
          "output_type": "stream",
          "name": "stdout",
          "text": [
            "La menor edad es: 18.0\n",
            "Los datos del cliente con menor edad:\n",
            "           rut           nombre           direccion    comuna  \\\n",
            "11  67890123-5  Luisa Fernández  Calle Ficticia 321  Rancagua   \n",
            "\n",
            "   fecha_nacimiento  telefono              email  edad  \n",
            "11       2005-04-25       NaN  luisa@example.com  18.0  \n"
          ]
        }
      ]
    },
    {
      "cell_type": "markdown",
      "source": [
        "f. Buscar cuantas boletas tiene cada cliente, fusionar clientes con\n",
        "boletas a través del rut."
      ],
      "metadata": {
        "id": "ZpHdbZFGg0BD"
      }
    },
    {
      "cell_type": "code",
      "source": [
        "#acá usé df_clientes ya que considera todos los rut de los clientes\n",
        "merge_dfs = pd.merge(df_clientes, df_boletas, left_on='rut', right_on='rut_cliente', how='inner')#unión de los dataframe por columnas rut y rut_cliente\n",
        "boletas_por_cliente = merge_dfs['rut'].value_counts()#value_counts cuenta la cantidad de boletas que hay por cliente según su rut\n",
        "print(\"Rut y cantidad de boletas\")\n",
        "print(boletas_por_cliente)\n",
        "#print(f\"Cada cliente tiene: {boletas_por_cliente} boletas\")\n"
      ],
      "metadata": {
        "colab": {
          "base_uri": "https://localhost:8080/"
        },
        "id": "_4dupCDvy0Kb",
        "outputId": "4e57aebb-fdd0-4ab3-c10c-0c1c0877c2a2"
      },
      "execution_count": 109,
      "outputs": [
        {
          "output_type": "stream",
          "name": "stdout",
          "text": [
            "Rut y cantidad de boletas\n",
            "11223344-5    4\n",
            "12345678-9    2\n",
            "23456789-1    2\n",
            "33445566-7    2\n",
            "55667788-9    2\n",
            "77889900-1    2\n",
            "99001122-3    2\n",
            "34567890-2    1\n",
            "45678901-3    1\n",
            "56789012-4    1\n",
            "67890123-5    1\n",
            "78901234-6    1\n",
            "87654321-0    1\n",
            "89012345-7    1\n",
            "90123456-8    1\n",
            "Name: rut, dtype: int64\n"
          ]
        }
      ]
    },
    {
      "cell_type": "markdown",
      "source": [
        "g. Ahora, queremos hacer algo parecido con los productos.\n",
        "Calcular cuánto se ha vendido (en dinero) de cada producto."
      ],
      "metadata": {
        "id": "awCgscdMg3e9"
      }
    },
    {
      "cell_type": "code",
      "source": [
        "#unión de los dataframe por columnas codigo y codigo_producto, how='inner' considera solo los productos que han tenido ventas\n",
        "merge_pructo_detalle = pd.merge(df_productos, df_detalle, left_on='codigo', right_on='codigo_producto', how='inner')\n",
        "#print(merge_pructo_detalle)\n",
        "#se crea la columna precio_total que alojará el resultado de la multiplicación entre las columnas precio y cantidad de los productos\n",
        "merge_pructo_detalle['precio_total'] = merge_pructo_detalle['precio']*merge_pructo_detalle['cantidad']\n",
        "#print(merge_pructo_detalle['precio_total'])\n",
        "\n",
        "#agrupo por nombre del producto y sum suma los montos de cada precio_total por producto por boleta\n",
        "ventas_por_productos = merge_pructo_detalle.groupby('nombre')['precio_total'].sum()\n",
        "print(\"Monto vendido en cada producto\")\n",
        "print(ventas_por_productos)"
      ],
      "metadata": {
        "colab": {
          "base_uri": "https://localhost:8080/"
        },
        "id": "koxzt5Sm9WTx",
        "outputId": "c3e0cb0d-1c25-47aa-f283-e4d9ccd70532"
      },
      "execution_count": 110,
      "outputs": [
        {
          "output_type": "stream",
          "name": "stdout",
          "text": [
            "Monto vendido en cada producto\n",
            "nombre\n",
            "Aceite de cocina    198000\n",
            "Agua mineral          7200\n",
            "Arroz                36000\n",
            "Azúcar               30000\n",
            "Café                 65000\n",
            "Carne de pollo       28800\n",
            "Fideos               14400\n",
            "Frutas frescas       14000\n",
            "Galletas             24500\n",
            "Harina               18000\n",
            "Helado               25000\n",
            "Leche                 6000\n",
            "Mantequilla          11200\n",
            "Pescado             297000\n",
            "Queso                30000\n",
            "Verduras             88000\n",
            "Yogur                30000\n",
            "Name: precio_total, dtype: int64\n"
          ]
        }
      ]
    },
    {
      "cell_type": "markdown",
      "source": [
        "h. Agregar los productos que nunca se han vendido con un 0."
      ],
      "metadata": {
        "id": "s1E_wZ9lg5v_"
      }
    },
    {
      "cell_type": "code",
      "source": [
        "#Hago el merge de las tablas y con how='outer' incluyo aquellos productos que no han tenido ventas, pero los llena con NaN\n",
        "merge_pructo_detalle_ceros = pd.merge(df_productos, df_detalle, left_on='codigo', right_on='codigo_producto', how='outer')\n",
        "#print(merge_pructo_detalle_ceros)\n",
        "\n",
        "#con fillna(0) reemplazo los NaN con ceros en la tabla resultante de la unión (pan, jugos y carne res)\n",
        "merge_pructo_detalle_ceros = merge_pructo_detalle_ceros.fillna(0)\n",
        "print(merge_pructo_detalle_ceros)\n"
      ],
      "metadata": {
        "id": "piFHw9FWg9Jg",
        "colab": {
          "base_uri": "https://localhost:8080/"
        },
        "outputId": "85421fdc-6a64-4f52-cc18-22793d7911ff"
      },
      "execution_count": 111,
      "outputs": [
        {
          "output_type": "stream",
          "name": "stdout",
          "text": [
            "    codigo            nombre  precio  numero_boleta  codigo_producto  cantidad\n",
            "0      101             Arroz    1500            1.0            101.0       3.0\n",
            "1      101             Arroz    1500            9.0            101.0       6.0\n",
            "2      101             Arroz    1500           18.0            101.0       9.0\n",
            "3      101             Arroz    1500           23.0            101.0       6.0\n",
            "4      102            Fideos    1200            2.0            102.0       5.0\n",
            "5      102            Fideos    1200           18.0            102.0       2.0\n",
            "6      102            Fideos    1200           21.0            102.0       5.0\n",
            "7      103  Aceite de cocina   18000            1.0            103.0       6.0\n",
            "8      103  Aceite de cocina   18000           18.0            103.0       5.0\n",
            "9      104            Harina    2000            2.0            104.0       1.0\n",
            "10     104            Harina    2000            9.0            104.0       2.0\n",
            "11     104            Harina    2000           19.0            104.0       3.0\n",
            "12     104            Harina    2000           22.0            104.0       1.0\n",
            "13     104            Harina    2000           23.0            104.0       2.0\n",
            "14     105             Leche    3000           10.0            105.0       1.0\n",
            "15     105             Leche    3000           23.0            105.0       1.0\n",
            "16     106            Azúcar    2500            1.0            106.0       2.0\n",
            "17     106            Azúcar    2500           10.0            106.0       3.0\n",
            "18     106            Azúcar    2500           19.0            106.0       7.0\n",
            "19     107              Café    5000            3.0            107.0       8.0\n",
            "20     107              Café    5000           11.0            107.0       4.0\n",
            "21     107              Café    5000           20.0            107.0       1.0\n",
            "22     108               Pan    1500            0.0              0.0       0.0\n",
            "23     109          Galletas    3500           11.0            109.0       7.0\n",
            "24     110       Mantequilla    2800            3.0            110.0       4.0\n",
            "25     111             Queso    6000           12.0            111.0       5.0\n",
            "26     112             Yogur    2000            4.0            112.0       7.0\n",
            "27     112             Yogur    2000           13.0            112.0       8.0\n",
            "28     113      Agua mineral    1200            5.0            113.0       3.0\n",
            "29     113      Agua mineral    1200           14.0            113.0       3.0\n",
            "30     114             Jugos    4000            0.0              0.0       0.0\n",
            "31     115    Frutas frescas    7000            6.0            115.0       2.0\n",
            "32     116          Verduras    5500            7.0            116.0       5.0\n",
            "33     116          Verduras    5500           14.0            116.0       1.0\n",
            "34     116          Verduras    5500           24.0            116.0      10.0\n",
            "35     117    Carne de pollo    4800           15.0            117.0       6.0\n",
            "36     118      Carne de res   10000            0.0              0.0       0.0\n",
            "37     119           Pescado    9000            7.0            119.0       9.0\n",
            "38     119           Pescado    9000           16.0            119.0       4.0\n",
            "39     119           Pescado    9000           24.0            119.0      20.0\n",
            "40     120            Helado    2500            8.0            120.0       4.0\n",
            "41     120            Helado    2500           17.0            120.0       2.0\n",
            "42     120            Helado    2500           21.0            120.0       4.0\n"
          ]
        }
      ]
    }
  ]
}