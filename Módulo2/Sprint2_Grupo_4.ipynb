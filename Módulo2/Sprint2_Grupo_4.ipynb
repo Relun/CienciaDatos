{
  "cells": [
    {
      "cell_type": "markdown",
      "source": [
        "# Grupo 4\n",
        "\n",
        "\n",
        "*   Camila Aguilar\n",
        "*   Alex Riquelme\n",
        "*   Fabian Cuevas\n",
        "*   Claudia Araya\n",
        "*   Camila Varas\n",
        "\n",
        "\n",
        "\n",
        "\n"
      ],
      "metadata": {
        "id": "QiBoN2cXYq3t"
      }
    },
    {
      "cell_type": "markdown",
      "metadata": {
        "id": "8TSdEzHvxi9m"
      },
      "source": [
        "#Librerías"
      ]
    },
    {
      "cell_type": "code",
      "execution_count": null,
      "metadata": {
        "id": "3vsJvDwqwqYx"
      },
      "outputs": [],
      "source": [
        "#Se importa la librería pandas para los DataFrames y se le asigna el\n",
        "#alias pd\n",
        "#Se importa el datetime para el manejo de fechas (la clase datetime del módulo datetime)\n",
        "#import se utiliza para cargar un módulo completo\n",
        "#from se utiliza para cargar partes específicas de un módulo\n",
        "import pandas as pd\n",
        "from datetime import datetime\n",
        "\n",
        "#Definir nombres de archivos para productos, facturas, resumen y detalle con extensión csv\n",
        "archivo_productos = 'productos.csv'\n",
        "archivo_facturas = 'facturas.csv'\n",
        "archivo_resumen = 'resumen.csv'\n",
        "archivo_detalle = 'detalle.csv'"
      ]
    },
    {
      "cell_type": "markdown",
      "metadata": {
        "id": "Ts3fJiHLxduc"
      },
      "source": [
        "#Carga de archivos existentes o creación de ellos\n"
      ]
    },
    {
      "cell_type": "code",
      "execution_count": null,
      "metadata": {
        "id": "DiTp2Xv9xhlg"
      },
      "outputs": [],
      "source": [
        "#Try para controlar el código por si existe algún error. En este caso se monitorea que\n",
        "#df_productos lea el archivo_productos, en el caso que no lo pueda realizar arroja un except\n",
        "try:\n",
        "  df_productos = pd.read_csv(archivo_productos)\n",
        "#except lanzará una excepción FileNotFoundError:es, una excepción en Python\n",
        "#que se produce cuando un archivo o directorio no se encuentra en el sistema de archivos.\n",
        "#Y en este caso asignará un DataFrame con las columnas Nombre y Precio\n",
        "except FileNotFoundError:\n",
        "  df_productos= pd.DataFrame(columns=[ 'Nombre','Precio'])\n",
        "\n",
        "#Try para controlar el código por si existe algún error. En este caso se monitorea que\n",
        "#df_facturas lea el archivo_facturas, en el caso que no lo pueda realizar arroja un except\n",
        "try:\n",
        "  df_facturas = pd.read_csv(archivo_facturas)\n",
        "#lanzará una excepción FileNotFoundError:es, una excepción en Python\n",
        "#que se produce cuando un archivo o directorio no se encuentra en el sistema de archivos.\n",
        "#Y en este caso asignará un DataFrame con las columnas 'cliente', 'Fecha', 'Productos'\n",
        "except FileNotFoundError:\n",
        "  df_facturas = pd.DataFrame(columns=['cliente', 'Fecha', 'Productos'])\n"
      ]
    },
    {
      "cell_type": "markdown",
      "metadata": {
        "id": "qzSlO2rQzbba"
      },
      "source": [
        "a)Ingresar producto: debe ingresase el\n",
        " el nombre y el precio del producto. Tendrá un sub menú: nuevo producto, guardar archivo o volver"
      ]
    },
    {
      "cell_type": "code",
      "execution_count": null,
      "metadata": {
        "id": "DFZpnsQ5zztI"
      },
      "outputs": [],
      "source": [
        "#se define la función ingresar_producto(),\n",
        "#variable global df_productos permite su uso dentro y fuera de la función\n",
        "def ingresar_producto():\n",
        "  global df_productos\n",
        "  nombre=input(\"Ingrese el nombre del producto: \")\n",
        "\n",
        "#el ciclo preguntará hasta que se ingrese un valor numérico válido de tipo flotante,\n",
        "#de lo contrario correrá la excepción y alertará el problema\n",
        "  while True:\n",
        "    precio_input = input(\"Ingrese el precio del producto: \")\n",
        "    try:\n",
        "      precio = float(precio_input)\n",
        "      break\n",
        "    except ValueError:\n",
        "      print(\"Error: Ingrese un valor numérico válido.\")\n",
        "  #se guardará un DataFrame nuevo_producto el que contendrá Nombre y Precio\n",
        "  nuevo_producto = pd.DataFrame({'Nombre': [nombre], 'Precio': [precio]})\n",
        "  #el dataframe df_productos va concatenando un nuevo producto cada vez que se ingresa.\n",
        "  #cada vez que se genera una nueva concatenación omite el index anterior creando uno nuevo\n",
        "  df_productos = pd.concat([df_productos, nuevo_producto], ignore_index=True)\n",
        "  print(\"Producto ingresado correctamente.\")\n"
      ]
    },
    {
      "cell_type": "markdown",
      "metadata": {
        "id": "YgCzNrhy16aZ"
      },
      "source": [
        "b) debe ingresarse el nombre del cliente, luego deberá generar un submenú: Ingresar producto, guardar y salir. Los productos se ingresan con\n",
        "nombre y precio. La factura además debe guardar la fecha y hora actual de la venta."
      ]
    },
    {
      "cell_type": "code",
      "execution_count": null,
      "metadata": {
        "id": "zBUidY8N2Btc"
      },
      "outputs": [],
      "source": [
        "#se define la función ingresar_factura(),\n",
        "#variable global df_facturas permite su uso dentro y fuera de la función\n",
        "def ingresar_factura():\n",
        "    global df_facturas\n",
        "\n",
        "    cliente = input(\"Ingrese el nombre del cliente: \")\n",
        "    #se ingresa la fecha actual con formato año, mes, día Hora:Min:seg\n",
        "    fecha = datetime.now().strftime('%Y-%m-%d %H:%M:%S')\n",
        "    #se inicializa una lista de productos_factura\n",
        "    productos_factura = []\n",
        "    #se realiza un ciclo de ingreso de nombre del producto hasta que se presione la letra q\n",
        "    #independiente que sea Mayúscula o minúscula ya que transformará a minúscula para la\n",
        "    #validación\n",
        "    while True:\n",
        "        nombre_producto = input(\"Ingrese el nombre del producto (o 'q' para salir): \")\n",
        "        if nombre_producto.lower() == 'q':\n",
        "            break\n",
        "        #una vez que se ingrese el nombre del producto se agregará al final de la lista\n",
        "        #productos_factura con la función append\n",
        "        productos_factura.append(nombre_producto)\n",
        "\n",
        "    #se guardará un DataFrame nueva_factura el que contendrá Cliente, Fecha y Productos\n",
        "    nueva_factura = pd.DataFrame({'Cliente': [cliente], 'Fecha': [fecha], 'Productos': [productos_factura]})\n",
        "    #el dataframe df_facturas va concatenando una nueva factura cada vez que se ingresa.\n",
        "    #cada vez que se genera una nueva concatenación omite el index anterior creando uno nuevo\n",
        "    df_facturas = pd.concat([df_facturas, nueva_factura], ignore_index=True)\n",
        "    print(\"Factura ingresada correctamente.\")"
      ]
    },
    {
      "cell_type": "markdown",
      "metadata": {
        "id": "R_3fdIgp2Er4"
      },
      "source": [
        "c) En esta opción de debe desplegar: Cantidad de ventas y monto total vendido. Opción de guardar resumen (ingresando nombre de archivo)."
      ]
    },
    {
      "cell_type": "code",
      "execution_count": null,
      "metadata": {
        "id": "P3CwnZaC2WQ6"
      },
      "outputs": [],
      "source": [
        "#se define la función ver_resumen(),\n",
        "#variable global df_facturas y df_productos permite su uso dentro y fuera de la función\n",
        "def ver_resumen():\n",
        "    global df_facturas, df_productos\n",
        "    #cantidad_ventas cuenta las facturas almacenadas en el Dataframe  df_facturas\n",
        "    cantidad_ventas = len(df_facturas)\n",
        "    #monto_total_vendido utiliza el dataFrame df_facturas buscando cada fila y las va sumando con la función apply.\n",
        "    #lambda row: por cada fila realiza una operación el cual busca en la columna Nombre de df_productos\n",
        "    #isin() cumple la función de omitir la fila productos y suma el precio del producto.\n",
        "    #axis=1, parte de la fila 1 omitiendo la cabecera\n",
        "    monto_total_vendido = df_facturas.apply(lambda row: sum(df_productos [df_productos ['Nombre'].isin(row['Productos'])]['Precio' ]), axis=1).sum()\n",
        "    #imprime el resumen con la cantidad de ventas y el monto total\n",
        "    print(\"\\nResumen:\")\n",
        "    print(f\"Cantidad de ventas: {cantidad_ventas}\")\n",
        "    print(f\"Monto total vendido: {monto_total_vendido}\")\n",
        "    #opcion_guardar para guardar el resumen anterior en un archivo. Además se puede ingresar un nombre al archivo.\n",
        "    opcion_guardar = input(\"¿Desea guardar el resumen? (s/n): \")\n",
        "    #la opcion_guardar si recibe una mayúscula cambia a minúscula\n",
        "    if opcion_guardar.lower() == 's':\n",
        "      #el usuario ingresa el nombre del archivo\n",
        "        archivo_guardar = input(\"Ingrese el nombre del archivo para guardar el resumen: \")\n",
        "        #se crea un Dataframe df_resumen el que guardará la cantidad de ventas y el monto total vendido\n",
        "        df_resumen = pd.DataFrame({'Cantidad Ventas': [cantidad_ventas], 'Monto Total Vendido': [monto_total_vendido]})\n",
        "        #se guarda el archivo tipo csv con el nombre ingresado\n",
        "        df_resumen.to_csv(archivo_guardar + '.csv', index=False)\n",
        "        print (f'Resumen guardado en (archivo guardar).csv')"
      ]
    },
    {
      "cell_type": "markdown",
      "metadata": {
        "id": "NeuouRsw3VTT"
      },
      "source": [
        "d)Ver detalle:"
      ]
    },
    {
      "cell_type": "code",
      "execution_count": null,
      "metadata": {
        "id": "6fZZn6Dw3fvv"
      },
      "outputs": [],
      "source": [
        "#se define la función ver_detalle(),\n",
        "#variable global df_facturas permite su uso dentro y fuera de la función\n",
        "\n",
        "def ver_detalle():\n",
        "  #se despliega submenú de facturas\n",
        "    global df_facturas\n",
        "    print(\"\\nDetalle: \")\n",
        "    print(\"1. Ventas por usuario\")\n",
        "    print(\"2. Ventas por producto\")\n",
        "    print(\"3. Ventas diarias\")\n",
        "    print(\"4. Volver\")\n",
        "\n",
        "    opcion_detalle = input(\"Seleccione una opción: \")\n",
        "\n",
        "    if opcion_detalle == '1':\n",
        "      #el dataframe df_facturas se agrupa por Cliente\n",
        "      #groupby() de un DataFrame agrupa las filas por valores únicos en la columna 'Cliente',\n",
        "      #método size() para contar el número de filas en cada grupo\n",
        "      #reset_index() para reiniciar el índice del DataFrame resultante y darle un nuevo nombre a la columna\n",
        "      #contiene el tamaño de cada grupo llamado Cantidad_ventas\n",
        "        ventas_usuario = df_facturas.groupby('Cliente').size().reset_index(name='Cantidad_ventas')\n",
        "        print(ventas_usuario)\n",
        "      #el dataframe df_facturas se agrupa por Cliente\n",
        "      #groupby() de un DataFrame agrupa las filas por valores únicos en la columna 'Cliente',\n",
        "      #método size() para contar el número de filas en cada grupo\n",
        "      #reset_index() para reiniciar el índice del DataFrame resultante y darle un nuevo nombre a la columna\n",
        "      #contiene el tamaño de cada grupo llamado Cantidad_ventas\n",
        "    elif opcion_detalle == '2':\n",
        "        #el dataframe df_facturas utiliza explode(), si una fila contiene una lista de productos,\n",
        "        #la divide en varias filas, una por cada producto en la lista.\n",
        "        ventas_producto = df_facturas.explode('Productos')\n",
        "      #el dataframe ventas_producto se agrupa por 'Productos'\n",
        "      #groupby() de un DataFrame agrupa las filas por valores únicos en la columna 'Productos',\n",
        "      #método size() para contar el número de filas en cada grupo\n",
        "      #reset_index() para reiniciar el índice del DataFrame resultante y darle un nuevo nombre a la columna\n",
        "      #contiene el tamaño de cada grupo llamado Cantidad_Ventas\n",
        "        ventas_producto = ventas_producto.groupby('Productos').size().reset_index(name='Cantidad_Ventas')\n",
        "        print(ventas_producto)\n",
        "    elif opcion_detalle == '3':\n",
        "      #se despliegan las ventas diarias (ingresando el nombre de archivo).\n",
        "      #groupby() de un DataFrame agrupa las filas por valores únicos en la columna 'Fecha',\n",
        "      #método split('') divide cadena en subcadenas\n",
        "      #método size() para contar el número de filas en cada grupo\n",
        "      #reset_index() para reiniciar el índice del DataFrame resultante y darle un nuevo nombre a la columna\n",
        "      #contiene el tamaño de cada grupo llamado Cantidad_Ventas\n",
        "        ventas_diarias = df_facturas.groupby(df_facturas['Fecha'].str.split('').str[0]).size().reset_index(name='Cantidad_Ventas')\n",
        "        print(ventas_diarias)\n",
        "    #vuelve al menú anterior\n",
        "    elif opcion_detalle == '4':\n",
        "        return\n",
        "    #da la opción de guardar la vista en un archivo dependiendo de las opciones de arriba.\n",
        "    #además da la opción de guardarlo con un nombre personalizado tipo csv\n",
        "    opcion_guardar = input(\"¿Desea guardar la vista? (s/n): \")\n",
        "    if opcion_guardar.lower() == 's':\n",
        "        archivo_guardar = input (\"Ingrese el nombre del archivo para guardar la vista: \")\n",
        "        if opcion_detalle == '1':\n",
        "            ventas_usuario.to_csv(archivo_guardar + '.csv', index=False)\n",
        "        elif opcion_detalle == '2':\n",
        "              ventas_producto.to_csv(archivo_guardar + '.csv', index=False)\n",
        "        elif opcion_detalle == '3':\n",
        "              ventas_diarias.to_csv(archivo_guardar + '.csv', index=False)\n",
        "        print(f\"vista guardada en {archivo_guardar}.csv\")"
      ]
    },
    {
      "cell_type": "markdown",
      "metadata": {
        "id": "WfbmolEF3oBw"
      },
      "source": [
        "e) Borrar datos: elimina los archivos guardados (elegir productos, facturas, todos o volver)"
      ]
    },
    {
      "cell_type": "code",
      "execution_count": null,
      "metadata": {
        "id": "QnAF37Vt6CC9"
      },
      "outputs": [],
      "source": [
        "#se define la función borrar_datos(),\n",
        "#variable global df_facturas y df_productos permite su uso dentro y fuera de la función\n",
        "def borrar_datos():\n",
        "    global df_productos, df_facturas\n",
        "    #genera un menú para borrar datos\n",
        "    print(\"\\nBorrar datos:\")\n",
        "    print(\"1. Borrar productos\")\n",
        "    print(\"2. Borrar facturas\")\n",
        "    print(\"3. Borrar todos los datos\")\n",
        "    print(\"4. Volver\")\n",
        "\n",
        "    opcion_borrar = input(\"Seleccione una opción: \")\n",
        "\n",
        "    if opcion_borrar == '1':\n",
        "      #El código crea un nuevo DataFrame vacío llamado df_productos con dos columnas: 'Nombre' y 'Precio',\n",
        "      #lo que hace que se reinicie el df_productos limpiando el dataframe\n",
        "      df_productos = pd.DataFrame(columns=['Nombre', 'Precio' ])\n",
        "      #no se debe incluir las filas en el archivo resultante\n",
        "      df_productos.to_csv(archivo_productos, index=False)\n",
        "      print (\"Datos de productos borrados.\")\n",
        "    elif opcion_borrar == '2':\n",
        "      #El código crea un nuevo DataFrame vacío llamado df_facturas con tres columnas: 'Cliente', 'Fecha', 'Productos'\n",
        "      #Lo que hace que se reinicie el df_productos limpiando el dataframe\n",
        "      df_facturas = pd.DataFrame(columns=['Cliente', 'Fecha', 'Productos'])\n",
        "      #no se debe incluir las filas en el archivo resultante\n",
        "      df_facturas.to_csv(archivo_facturas, index=False)\n",
        "      print (\"Datos de facturas borrados. \")\n",
        "    elif opcion_borrar == '3':\n",
        "      #El código crea un nuevo DataFrame vacío llamado df_productos y df_facturas con dos y tres columnas: 'Nombre' y 'Precio' y  'Cliente', 'Fecha', 'Productos'\n",
        "      #Lo que hace que se reinicie el df_productos y df_facturas limpiando el dataframe\n",
        "      df_productos = pd.DataFrame(columns=['Nombre', 'Precio'])\n",
        "      df_facturas = pd.DataFrame (columns=['Cliente', 'Fecha', 'Productos'])\n",
        "      print(\"Todos los datos han sido borrados.\")\n",
        "    elif opcion_borrar == '4':\n",
        "      return"
      ]
    },
    {
      "cell_type": "markdown",
      "metadata": {
        "id": "RsYthOdH6rix"
      },
      "source": [
        "f) Salir termina la ejecución del programa, cabe señalar que, si los archivos ya existen, entonces deben ser cargados al inicio."
      ]
    },
    {
      "cell_type": "code",
      "execution_count": null,
      "metadata": {
        "colab": {
          "background_save": true,
          "base_uri": "https://localhost:8080/"
        },
        "id": "9TzZFrfL6sgr",
        "outputId": "3f0f5d97-75e3-47e4-8299-dd3d939762a9"
      },
      "outputs": [
        {
          "output_type": "stream",
          "name": "stdout",
          "text": [
            "\n",
            "Sistema de facturación y bodega\n",
            "\n",
            "Menú Principal:\n",
            "\n",
            "a. Ingresar producto\n",
            "b. Ingresar factura\n",
            "c. Ver resumen\n",
            "d. Ver detalle\n",
            "e. Borrar datos\n",
            "f. Salir\n"
          ]
        }
      ],
      "source": [
        "#se define la función principal main()\n",
        "#variable global df_facturas y df_productos permite su uso dentro y fuera de la función\n",
        "def main():\n",
        "  global df_productos, df_facturas\n",
        "    #genera un menú principal para el sistema de facturación y bodega.\n",
        "    #las opciones son a: ingresar_producto,ingresar_factura,ver_resumen,ver_detalle,borrar_datos y salir.\n",
        "  while True:\n",
        "    print(\"\\nSistema de facturación y bodega\"  )\n",
        "    print(\"\\nMenú Principal:\")\n",
        "    print(\"\\na. Ingresar producto\\nb. Ingresar factura\\nc. Ver resumen\\nd. Ver detalle\\ne. Borrar datos\\nf. Salir\")\n",
        "    opcion = input(\"\\nSeleccione una opción: \").lower()\n",
        "    if opcion == 'a':\n",
        "      ingresar_producto()\n",
        "    elif opcion == 'b':\n",
        "      ingresar_factura()\n",
        "    elif opcion =='c':\n",
        "      ver_resumen()\n",
        "    elif opcion == 'd':\n",
        "      ver_detalle()\n",
        "    elif opcion =='e':\n",
        "      borrar_datos()\n",
        "    elif opcion == 'f':\n",
        "      print(\"Saliendo\")\n",
        "      break\n",
        "    else:\n",
        "      print(\"Opción no válida. Inténtelo de nuevo.\")\n",
        " #el main() es para llamar los métodos a otros archivos,\n",
        " #lo cual permite que se puedan llamar de a uno y en el mismo script en el que está escrito, ejecutando todo el código\n",
        "if __name__ == \"__main__\":\n",
        "  main()"
      ]
    }
  ],
  "metadata": {
    "colab": {
      "provenance": []
    },
    "kernelspec": {
      "display_name": "Python 3",
      "name": "python3"
    },
    "language_info": {
      "name": "python"
    }
  },
  "nbformat": 4,
  "nbformat_minor": 0
}