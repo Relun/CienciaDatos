{
  "nbformat": 4,
  "nbformat_minor": 0,
  "metadata": {
    "colab": {
      "provenance": []
    },
    "kernelspec": {
      "name": "python3",
      "display_name": "Python 3"
    },
    "language_info": {
      "name": "python"
    }
  },
  "cells": [
    {
      "cell_type": "markdown",
      "source": [
        "### Actividades\n",
        "Los siguientes ejercicios son enunciados para crear funciones. Implemente\n",
        "además para cada una un pequeño programa para probar la función.\n"
      ],
      "metadata": {
        "id": "72O-NfbHDDAU"
      }
    },
    {
      "cell_type": "markdown",
      "source": [
        "1. Utiliza el módulo math para calcular el área de un círculo. Crea una\n",
        "función area_circulo que tome el radio como argumento y devuelva el\n",
        "área."
      ],
      "metadata": {
        "id": "3UIEKcoA5V23"
      }
    },
    {
      "cell_type": "code",
      "source": [
        "import math #importación del módulo math\n",
        "\n",
        "def area_circulo(radio):\n",
        "  area = (radio*radio) * math.pi #Fórmula para obtener el área de un círculo\n",
        "  area_round = round(area, 2) #Round() redondea el resultado en 2 decimales\n",
        "  return area_round\n",
        "\n",
        "#Ejemplo de uso\n",
        "radio_ingresado = float(input(\"Ingrese el radio del círculo: \"))\n",
        "resultado = area_circulo(radio_ingresado)\n",
        "print(f\"El área del círculo con radio {radio_ingresado} es: {resultado}\")\n",
        "\n",
        "\n"
      ],
      "metadata": {
        "colab": {
          "base_uri": "https://localhost:8080/"
        },
        "id": "oQjbjj5QEFVX",
        "outputId": "9bf4dcef-6218-48ec-a573-7433ba31d361"
      },
      "execution_count": 119,
      "outputs": [
        {
          "output_type": "stream",
          "name": "stdout",
          "text": [
            "Ingrese el radio del círculo: 2\n",
            "El área del círculo con radio 2.0 es: 12.57\n"
          ]
        }
      ]
    },
    {
      "cell_type": "markdown",
      "source": [
        "2. Escriba una función que reciba como parámetro un número entero\n",
        "positivo y entregue como resultado todos los divisores de ese número."
      ],
      "metadata": {
        "id": "7RpGiabx5fIC"
      }
    },
    {
      "cell_type": "code",
      "source": [
        "def divisores(number):\n",
        "  divisores = [] #lista vacía para guardar los divisores\n",
        "  if (number>0):\n",
        "    for divisor in range(1, number + 1): #ciclo que recorre el número ingresado en el rango de 1 hasta el nro (nro+1 porque considera el índice)\n",
        "            if number % divisor == 0:\n",
        "                divisores.append(divisor) #si cumple con la condición de ser divisor, lo agrega a la lista divisores[]\n",
        "    print(f\"El número {number} tiene los siguentes divisores: {divisores}\")\n",
        "  else:\n",
        "    print(\"El número no es un entero positivo\")\n",
        "\n",
        "#Uso\n",
        "numero_ingresado = int(input(\"Ingrese un nro entero positivo: \"))\n",
        "resultado = divisores(numero_ingresado)\n",
        "\n"
      ],
      "metadata": {
        "colab": {
          "base_uri": "https://localhost:8080/"
        },
        "id": "DKgfqsIEMToS",
        "outputId": "b335079c-4402-47ad-94a9-ec820b6a6490"
      },
      "execution_count": 120,
      "outputs": [
        {
          "output_type": "stream",
          "name": "stdout",
          "text": [
            "Ingrese un nro entero positivo: 5\n",
            "El número 5 tiene los siguentes divisores: [1, 5]\n"
          ]
        }
      ]
    },
    {
      "cell_type": "markdown",
      "source": [
        "3. Crea un archivo llamado operaciones.py con una función\n",
        "multiplicacion que tome dos números como argumentos y devuelva\n",
        "su producto. Luego, importa este módulo y usa la función en tu\n",
        "programa principal.\n"
      ],
      "metadata": {
        "id": "nI0AWv215h3D"
      }
    },
    {
      "cell_type": "code",
      "source": [
        "from operaciones import *\n",
        "\n",
        "number1 = int(input(\"Ingrese el primer número: \"))\n",
        "number2 = int(input(\"Ingrese el segundo número: \"))\n",
        "resultado = multiplicacion(number1, number2)\n",
        "print(f\"El resultado de la multiplicación es {resultado}\")"
      ],
      "metadata": {
        "colab": {
          "base_uri": "https://localhost:8080/"
        },
        "id": "zCwS_KK7jury",
        "outputId": "649628c2-42af-471e-b248-31bbe7bbb155"
      },
      "execution_count": 121,
      "outputs": [
        {
          "output_type": "stream",
          "name": "stdout",
          "text": [
            "Ingrese el primer número: 5\n",
            "Ingrese el segundo número: 2\n",
            "El resultado de la multiplicación es 10\n"
          ]
        }
      ]
    },
    {
      "cell_type": "markdown",
      "source": [
        "4. Crea una expresión lambda reciba dos números y use el primero como\n",
        "base y al segundo como exponente para entrega el resultado de la\n",
        "potencia.rear tres funciones, cada una debe recibir un parámetro: una\n",
        "lista denúmeros.\n",
        "- La primera debe calcular el promedio de los números.\n",
        "- La segunda la suma de los números.\n",
        "- La tercera debe calcular la mediana de los números.\n",
        "Crear además otra función llamada “calcular”, que reciba como\n",
        "parámetro una lista de números, y una función. La idea es que se le\n",
        "entregue al usuario un menú de opciones, donde pueda elegir qué\n",
        "cálculo desea hacer. Dependiendo de la opción realizada, se debe\n",
        "llamar a la función calcular con la operación correcta."
      ],
      "metadata": {
        "id": "0Tf0iG115m0p"
      }
    },
    {
      "cell_type": "code",
      "source": [
        "#Lambda\n",
        "potencia = lambda x,y: x**y\n",
        "\n",
        "#Uso\n",
        "numero_base = int(input(\"Ingrese un nro base \"))\n",
        "numero_exponente = int(input(\"Ingrese un nro exponente \"))\n",
        "resultado = potencia(numero_base,numero_exponente)\n",
        "print(f\"El resultado de la potencia es {resultado}\")"
      ],
      "metadata": {
        "colab": {
          "base_uri": "https://localhost:8080/"
        },
        "id": "w8q7s4wNviPa",
        "outputId": "5d02a4c7-a69c-497f-8aff-70b4a845e924"
      },
      "execution_count": 122,
      "outputs": [
        {
          "output_type": "stream",
          "name": "stdout",
          "text": [
            "Ingrese un nro base 5\n",
            "Ingrese un nro exponente 2\n",
            "El resultado de la potencia es 25\n"
          ]
        }
      ]
    },
    {
      "cell_type": "code",
      "source": [
        "#Las tres funciones\n",
        "\n",
        "#Esto permite obtener la lista con lo nros que elija el usuario, se declara lista vacía para guardar los nros, con un for y append() se van agregando estos nros a la lista\n",
        "lista = []\n",
        "parada = int(input(\"Cantidad de nros que quieres ingresar \"))\n",
        "for x in range(parada):\n",
        "    nro=int(input(\"Ingrese el número de la lista: \"))\n",
        "    lista.append(nro)\n",
        "print(f\"Sus nros ingresados son: {lista}\")\n",
        "\n",
        "#Función calcular promedio de los nros de la lista\n",
        "def promedio(lista):\n",
        "  return sum(lista)/len(lista)\n",
        "\n",
        "#Función calcular sumatoria de los nros de la lista\n",
        "def suma(lista):\n",
        "  return sum(lista)\n",
        "\n",
        "#Función calcular la mediana de los nros de la lista\n",
        "def mediana(lista):\n",
        "  lista_ordenada = sorted(lista)\n",
        "  index = len(lista_ordenada) // 2\n",
        "  # Si la lista es par\n",
        "  if len(lista) % 2 != 0:\n",
        "     return lista_ordenada[index]\n",
        "\n",
        "  # Si la lista es impar\n",
        "  return (lista_ordenada[index - 1] + lista_ordenada[index]) / 2\n",
        "\n",
        "#Función para que el usuario elija qué cálculo quiere hacer\n",
        "eleccion = int(input(\"Elija qué cálculo desea hacer:\\n 1. Promedio\\n 2. Sumar \\n 3. Mediana\\n  \"))\n",
        "def calcular(eleccion):\n",
        "    if eleccion == 1:\n",
        "      print(f\"El promedio es: {promedio(lista)} \")\n",
        "    elif eleccion == 2:\n",
        "      print(f\"La suma es: {suma(lista)} \")\n",
        "    elif eleccion == 3:\n",
        "      print(f\"La mediana es: {mediana(lista)} \")\n",
        "    else:\n",
        "      print(\"Opción no valida\")\n",
        "\n",
        "calcular(eleccion)\n"
      ],
      "metadata": {
        "colab": {
          "base_uri": "https://localhost:8080/"
        },
        "id": "keFxmRyk3xTx",
        "outputId": "f01fbf8c-201b-4ff2-bb3c-042ec02303ad"
      },
      "execution_count": 123,
      "outputs": [
        {
          "output_type": "stream",
          "name": "stdout",
          "text": [
            "Cantidad de nros que quieres ingresar 4\n",
            "Ingrese el número de la lista: 1\n",
            "Ingrese el número de la lista: 2\n",
            "Ingrese el número de la lista: 3\n",
            "Ingrese el número de la lista: 4\n",
            "Sus nros ingresados son: [1, 2, 3, 4]\n",
            "Elija qué cálculo desea hacer:\n",
            " 1. Promedio\n",
            " 2. Sumar \n",
            " 3. Mediana\n",
            "  1\n",
            "El promedio es: 2.5 \n"
          ]
        }
      ]
    },
    {
      "cell_type": "markdown",
      "source": [
        "5. Crear funciones para convertir grados entre Celsius, Fahrenheit\n",
        "y kelvin. El usuario debe ingresar un número y la unidad de\n",
        "entrada(“C”,”F”,”K”) y la de salida. Se debe elegir la función correcta\n",
        "para la conversión.\n"
      ],
      "metadata": {
        "id": "iywjwnuv5pdY"
      }
    },
    {
      "cell_type": "code",
      "source": [
        "#Funciones con los cálculos de las distintas conversiones de temperatura\n",
        "def celsius_a_fahrenheit(temperatura):\n",
        "    return temperatura * 1.8 + 32\n",
        "\n",
        "def celsius_a_kelvin(temperatura):\n",
        "    return temperatura + 273.15\n",
        "\n",
        "def fahrenheit_a_celsius(temperatura):\n",
        "    return (temperatura - 32) / 1.8\n",
        "\n",
        "def fahrenheit_a_kelvin(temperatura):\n",
        "    return (temperatura + 459.67) / 1.8\n",
        "\n",
        "def kelvin_a_celsius(temperatura):\n",
        "    return temperatura - 273.15\n",
        "\n",
        "def kelvin_a_fahrenheit(temperatura):\n",
        "    return temperatura * 1.8 - 459.6\n",
        "\n",
        "#Uso\n",
        "temperatura = int(input(\"Ingresa la temperatura: \"))\n",
        "entrada = input(\"¿En qué unidad está la tempratura (C,F,K): \").upper()\n",
        "salida = input(\"¿A qué unidad la quieres convertir (C,F,K): \").upper()\n",
        "\n",
        "#Condicionales para saber a qué función llamar según los datos ingresados por el usuario\n",
        "if entrada == \"C\" and salida == \"F\":\n",
        "  print(f\"{temperatura} °C son {celsius_a_fahrenheit(temperatura)} °F \")\n",
        "\n",
        "elif entrada == \"C\" and salida == \"K\":\n",
        "  print(f\"{temperatura} °C son {celsius_a_kelvin(temperatura)} °K \")\n",
        "\n",
        "elif entrada == \"F\" and salida == \"C\":\n",
        "  print(f\"{temperatura} °F son {fahrenheit_a_celsius(temperatura)} °C \")\n",
        "\n",
        "elif entrada == \"F\" and salida == \"K\":\n",
        "  print(f\"{temperatura} °F son {fahrenheit_a_kelvin(temperatura)} °K \")\n",
        "\n",
        "elif entrada == \"K\" and salida == \"C\":\n",
        "  print(f\"{temperatura} °K son {kelvin_a_celsius(temperatura)} °C \")\n",
        "\n",
        "elif entrada == \"K\" and salida == \"F\":\n",
        "  print(f\"{temperatura} °K son {kelvin_a_fahrenheit(temperatura)} °F \")\n",
        "\n",
        "else:\n",
        "  print(\"Datos no ingresados correctamente\")"
      ],
      "metadata": {
        "colab": {
          "base_uri": "https://localhost:8080/"
        },
        "id": "Lzbb_8JGhIq-",
        "outputId": "b42f42d9-057f-4de2-a541-7c9ed9c128c7"
      },
      "execution_count": 124,
      "outputs": [
        {
          "output_type": "stream",
          "name": "stdout",
          "text": [
            "Ingresa la temperatura: 15\n",
            "¿En qué unidad está la tempratura (C,F,K): c\n",
            "¿A qué unidad la quieres convertir (C,F,K): f\n",
            "15 °C son 59.0 °F \n"
          ]
        }
      ]
    }
  ]
}