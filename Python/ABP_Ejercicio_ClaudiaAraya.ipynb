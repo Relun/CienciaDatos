{
  "nbformat": 4,
  "nbformat_minor": 0,
  "metadata": {
    "colab": {
      "provenance": []
    },
    "kernelspec": {
      "name": "python3",
      "display_name": "Python 3"
    },
    "language_info": {
      "name": "python"
    }
  },
  "cells": [
    {
      "cell_type": "markdown",
      "source": [
        "**1d. Crearemos nuestro primer programa Python… “Hola Mundo”.**\n"
      ],
      "metadata": {
        "id": "eIQP52keQHZ0"
      }
    },
    {
      "cell_type": "code",
      "execution_count": null,
      "metadata": {
        "colab": {
          "base_uri": "https://localhost:8080/"
        },
        "id": "-CXOt9gUA_nS",
        "outputId": "7e8dcbab-3d6b-48e9-c597-5a438089abe4"
      },
      "outputs": [
        {
          "output_type": "stream",
          "name": "stdout",
          "text": [
            "Hola Mundo\n"
          ]
        }
      ],
      "source": [
        "print (\"Hola Mundo\")"
      ]
    },
    {
      "cell_type": "markdown",
      "source": [
        "**2. Reconocer las características de Python.**\n",
        "\n",
        "**a. ¿Qué significa que Python sea un lenguaje de propósito general?**\n",
        "\n",
        "Significa que Python no está orientado a un fin concreto, al contrario, puede ser usado para casi todo, por ejemplo, para crear aplicaciones y sitios web, por eso diversas empresas o startups lo utilizan (como Google o YouTube). También es usado en las áreas bursátil y científica, ya que se usa para procesar datos, mostrar números e imágenes, resolver ecuaciones científicas y guardar datos, entre otros usos.\n",
        "\n",
        "b. **¿Qué significa que Python sea un lenguaje interpretado?**\n",
        "\n",
        "Significa que el código se ejecuta directamente, instrucción a instrucción, ya que no pasa por un proceso de compilación, sino que existe un intérprete (PVM) que lee la instrucción o código, verifica que la sintaxis sea la correcta y la ejecuta.\n",
        "\n",
        "\n",
        "c. **¿Qué es el tipado dinámico?**\n",
        "\n",
        "No es necesario expresar de qué tipo de datos son las variables que declaramos, más bien, la variable se adapta a lo que escribimos cuando se ejecuta el programa."
      ],
      "metadata": {
        "id": "qp8kebzNGn_i"
      }
    },
    {
      "cell_type": "markdown",
      "source": [
        "**3. Dado el siguiente código, identifique el tipo de variable de cada\n",
        "expresión.**"
      ],
      "metadata": {
        "id": "8uFlg1uAQUnn"
      }
    },
    {
      "cell_type": "code",
      "source": [
        "edad: str =\"10\" # string (cadena de caracteres)\n",
        "costo: int = 10 # integer (entero)\n",
        "dias: list=[\"lunes\", \"martes\",\"miércoles\",\"jueves\",\"viernes\"] # list (lista)"
      ],
      "metadata": {
        "id": "I8Gz6qVpK1KQ"
      },
      "execution_count": null,
      "outputs": []
    },
    {
      "cell_type": "markdown",
      "source": [
        " **4. Crear un programa que defina expresamente una variable de tipo texto\n",
        "llamada “varTexto” y asignarle el valor “Hola que tal”, muéstrela en\n",
        "pantalla a través de un print que diga “El valor de la variable es:”. Hacer\n",
        "lo mismo con una variable de tipo numérica llamada “varNumero”, Cuál\n",
        "es la diferencia?**"
      ],
      "metadata": {
        "id": "cr9yUNLyMVzt"
      }
    },
    {
      "cell_type": "markdown",
      "source": [
        "La diferencia entre ambas es que en el primer caso hay una concatenación entre 2 string, no hay problema porque son datos del mismo tipo, en cambio en el segundo ejemplo existe una concatenación entre 2 datos de distinto tipo, uno es un string (el texto) y el otro es un integer y en este caso no se pueden concatenar con el signo \"+\", para esto se usa \",\". Esto pasa porque Python es un leguaje fuertemente tipado."
      ],
      "metadata": {
        "id": "hvi5q06zWiKT"
      }
    },
    {
      "cell_type": "code",
      "source": [
        "varTexto = str(\"Hola que tal\")\n",
        "print(\"El valor de la variable es: \" + varTexto)\n",
        "\n",
        "varNumero = int(10)\n",
        "print(\"El valor de la variable es: \", 10)"
      ],
      "metadata": {
        "colab": {
          "base_uri": "https://localhost:8080/"
        },
        "id": "VBEpUab4MXys",
        "outputId": "b4429598-7808-4622-e320-f9d93686088c"
      },
      "execution_count": 1,
      "outputs": [
        {
          "output_type": "stream",
          "name": "stdout",
          "text": [
            "El valor de la variable es: Hola que tal\n",
            "El valor de la variable es:  10\n"
          ]
        }
      ]
    },
    {
      "cell_type": "markdown",
      "source": [
        " **5. Crear un programa que lea el nombre, el apellido y el año de nacimiento\n",
        "de una persona, y entregue el mensaje: “Hey nombre apellido, tu edad es\n",
        "XX años!”.**"
      ],
      "metadata": {
        "id": "mWrFg1COOaPS"
      }
    },
    {
      "cell_type": "code",
      "source": [
        "nombre = input(\"Escribe tu nombre y apellido \")\n",
        "nacimiento = input(\"Escribe el año de tu nacimiento \")\n",
        "FECHA_ACTUAL = 2024\n",
        "print(\"Hey \" + nombre + \", tu edad es\", FECHA_ACTUAL - int(nacimiento),  \"años!\")"
      ],
      "metadata": {
        "colab": {
          "base_uri": "https://localhost:8080/"
        },
        "id": "1bHfZMLdOb0z",
        "outputId": "bbb40b52-e065-4c7f-c6d1-3e0d8b8cc9b3"
      },
      "execution_count": 3,
      "outputs": [
        {
          "output_type": "stream",
          "name": "stdout",
          "text": [
            "Escribe tu nombre y apellido Claudia Araya\n",
            "Escribe el año de tu nacimiento 1986\n",
            "Hey Claudia Araya, tu edad es 38 años!\n"
          ]
        }
      ]
    }
  ]
}