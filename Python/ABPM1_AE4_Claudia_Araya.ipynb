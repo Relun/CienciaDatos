{
  "nbformat": 4,
  "nbformat_minor": 0,
  "metadata": {
    "colab": {
      "provenance": []
    },
    "kernelspec": {
      "name": "python3",
      "display_name": "Python 3"
    },
    "language_info": {
      "name": "python"
    }
  },
  "cells": [
    {
      "cell_type": "markdown",
      "source": [
        "1. Escriba un programa en Python para crear una clase que represente\n",
        "un círculo. Incluya métodos para calcular su área y perímetro.\n"
      ],
      "metadata": {
        "id": "mHXNqGWL6-xa"
      }
    },
    {
      "cell_type": "code",
      "source": [
        "import math #se importa math para obtener el valor de pi\n",
        "\n",
        "#clase circulo, definida por el constructor __init__ que recibirá el radio del circulo como parámetro\n",
        "class Circulo:\n",
        "  def  __init__(self, radio):\n",
        "    self.radio = radio\n",
        "\n",
        "#Método calcula el área del círculo, que retorna el valor que se obtenga de la fórmula\n",
        "  def area(self):\n",
        "    return math.pi * (self.radio ** 2)\n",
        "\n",
        "#Método calcula el perímetro del círculo, que retorna el valor que se obtenga de la fórmula\n",
        "  def perimetro(self):\n",
        "    return 2 * math.pi * self.radio\n",
        "\n",
        "#Uso\n",
        "ingresar_radio = int(input(\"Ingrese el radio del circulo \"))\n",
        "radio_circulo = Circulo(ingresar_radio)\n",
        "print(f\"El área del círculo es: {radio_circulo.area()} y el perímtro del círculo es: {radio_circulo.perimetro()}\")\n"
      ],
      "metadata": {
        "colab": {
          "base_uri": "https://localhost:8080/"
        },
        "id": "oHD2A1xW7E0B",
        "outputId": "e193f8b0-c5da-406e-d68f-306fe0fec865"
      },
      "execution_count": null,
      "outputs": [
        {
          "output_type": "stream",
          "name": "stdout",
          "text": [
            "Ingrese el radio del circulo 2\n",
            "El área del círculo es: 12.566370614359172 y el perímtro del círculo es: 12.566370614359172\n"
          ]
        }
      ]
    },
    {
      "cell_type": "markdown",
      "source": [
        "2. Escriba un programa en Python para crear una clase ‘persona’. Incluya\n",
        "atributos tales como nombre, país y fecha de nacimiento. Implemente\n",
        "un método para determinar la edad de la persona."
      ],
      "metadata": {
        "id": "dfSiFlfN-wQO"
      }
    },
    {
      "cell_type": "code",
      "source": [
        "#Traté de hacerlo con datetime pero se me complicó y opté por poner 2024 como año fijo para determinar la edad\n",
        "#from datetime import date\n",
        "class Persona:\n",
        "  def  __init__(self, nombre, pais, fecha_nac):\n",
        "    self.nombre = nombre\n",
        "    self.pais = pais\n",
        "    self.fecha_nac = fecha_nac\n",
        "\n",
        "  def edad(self):\n",
        "    #fecha_actual = date.today()\n",
        "    return 2024 - self.fecha_nac\n",
        "\n",
        "#Uso\n",
        "ingresar_nombre = input(\"Ingrese su nombre \")\n",
        "ingresar_pais = input(\"Ingrese su país de nacimiento \")\n",
        "ingresar_fecha_nac = int(input(\"Ingrese su año de nacimiento \"))\n",
        "\n",
        "fecha_nac_persona = Persona(ingresar_nombre, ingresar_pais, ingresar_fecha_nac)\n",
        "print(f\"{ingresar_nombre} del país {ingresar_pais} tiene {fecha_nac_persona.edad()} años\")\n",
        "\n"
      ],
      "metadata": {
        "colab": {
          "base_uri": "https://localhost:8080/"
        },
        "id": "o6oBB-BZ-xJd",
        "outputId": "34615b35-ba28-42e4-eaa3-f2216c7c515f"
      },
      "execution_count": null,
      "outputs": [
        {
          "output_type": "stream",
          "name": "stdout",
          "text": [
            "Ingrese su nombre Clau\n",
            "Ingrese su país de nacimiento Chile\n",
            "Ingrese su año de nacimiento 1986\n",
            "Clau del país Chile tiene 38 años\n"
          ]
        }
      ]
    },
    {
      "cell_type": "markdown",
      "source": [],
      "metadata": {
        "id": "7OfbfoW-F44k"
      }
    },
    {
      "cell_type": "markdown",
      "source": [
        "3. Escriba un programa en Python para crear una clase ‘calculadora’.\n",
        "Incluya métodos de operaciones aritméticas básicas: suma, resta,\n",
        "multiplicación y división.\n"
      ],
      "metadata": {
        "id": "IDySbZu2NKHz"
      }
    },
    {
      "cell_type": "code",
      "source": [
        "class Calculadora: #clase calculadora, con los atributos de los 2 nros que ingresará el usuario para hacer los cálculos\n",
        "  def __init__(self, number1, number2):\n",
        "    self.number1 = number1\n",
        "    self.number2 = number2\n",
        "\n",
        "  def suma(self): #suma los nros ingresados por el usuario\n",
        "    return self.number1 + self.number2\n",
        "\n",
        "  def resta(self): #resta los nros ingresados por el usuario\n",
        "    return self.number1 - self.number2\n",
        "\n",
        "  def multiplicacion(self): #multiplica los nros ingresados por el usuario\n",
        "    return self.number1 * self.number2\n",
        "\n",
        "  def division(self): #divide los nros ingresados por el usuario\n",
        "    return self.number1 / self.number2\n",
        "\n",
        "ingresar_number1 = int(input(\"Ingrese un número \"))\n",
        "ingresar_number2 = int(input(\"Ingrese otro número \"))\n",
        "numeros = Calculadora(ingresar_number1, ingresar_number2)\n",
        "print(f\"El resultado de la suma es: {numeros.suma()}\")\n",
        "print(f\"El resultado de la resta es: {numeros.resta()}\")\n",
        "print(f\"El resultado de la multiplicación es: {numeros.multiplicacion()}\")\n",
        "print(f\"El resultado de la división es: {numeros.division()}\")\n"
      ],
      "metadata": {
        "colab": {
          "base_uri": "https://localhost:8080/"
        },
        "id": "oqgro0d9NN_n",
        "outputId": "d3d7b868-7870-4caa-80f1-7a4ee37f18eb"
      },
      "execution_count": null,
      "outputs": [
        {
          "output_type": "stream",
          "name": "stdout",
          "text": [
            "Ingrese un número 20\n",
            "Ingrese otro número 12\n",
            "El resultado de la suma es: 32\n",
            "El resultado de la resta es: 8\n",
            "El resultado de la multiplicación es: 240\n",
            "El resultado de la división es: 1.6666666666666667\n"
          ]
        }
      ]
    },
    {
      "cell_type": "markdown",
      "source": [
        "4. Escriba un programa en Python para crear una clase que represente\n",
        "una forma. Incluya métodos para calcular su área y perímetro.\n",
        "Implemente subclases para las formas círculo, triángulo y cuadrado.\n"
      ],
      "metadata": {
        "id": "ODSkov5hPnSA"
      }
    },
    {
      "cell_type": "code",
      "source": [
        "import math\n",
        "#clase padre rectángulo con sus métodos para calcular área y perímetro\n",
        "class Rectangulo:\n",
        "  def __init__(self, base, altura):\n",
        "    self.base = base\n",
        "    self.altura = altura\n",
        "\n",
        "  def area(self):\n",
        "    return self.base * self.altura\n",
        "\n",
        "  def perimetro(self):\n",
        "    return 2 * self.base + 2 * self.altura\n",
        "\n",
        "#Subclase circulos con sus propios métodos para calcular área y perímetro\n",
        "class Circulo(Rectangulo):\n",
        "  def __init__(self, radio):\n",
        "    self.radio = radio\n",
        "\n",
        "  def area(self):\n",
        "    return math.pi * (self.radio ** 2)\n",
        "\n",
        "  def perimetro(self):\n",
        "    return 2 * math.pi * self.radio\n",
        "\n",
        "#Subclase triángulo con sus propios métodos para calcular área y perímetro, hereda atributos de base y altura desde clase Rectangulo\n",
        "class Triangulo(Rectangulo):\n",
        "  def __init__(self, base, altura, ladoa, ladob):\n",
        "    self.ladoa = ladoa\n",
        "    self.ladob = ladob\n",
        "    super().__init__(base, altura)\n",
        "\n",
        "  def area(self):\n",
        "    return (self.base * self.altura) / 2\n",
        "\n",
        "  def perimetro(self):\n",
        "    return self.base + self.ladoa + self.ladob\n",
        "\n",
        "#Subclase cuadrado con sus propios métodos para calcular área y perímetro\n",
        "class Cuadrado(Rectangulo):\n",
        "  def __init__(self, base):\n",
        "    self.base = base\n",
        "\n",
        "  def area(self):\n",
        "    return self.base ** 2\n",
        "\n",
        "  def perimetro(self):\n",
        "    return 4 * self.base\n",
        "\n",
        "#Uso en rectangulo\n",
        "ingresar_base = int(input(\"Ingrese la base del rectángulo:  \"))\n",
        "ingresar_altura = int(input(\"Ingrese la altura del rectángulo:  \"))\n",
        "lados = Rectangulo(ingresar_base, ingresar_altura)\n",
        "print(f\"El área del rectángulo es: {lados.area()} y el perímetro del rectángulo es: {lados.perimetro()}\")\n",
        "\n",
        "#Uso en círculo\n",
        "ingresar_radio = int(input(\"Ingrese el radio del circulo \"))\n",
        "radio_circulo = Circulo(ingresar_radio)\n",
        "print(f\"El área del círculo es: {radio_circulo.area()} y el perímetro del círculo es: {radio_circulo.perimetro()}\")\n",
        "\n",
        "#Uso en triángulo\n",
        "ingresar_base = int(input(\"Ingrese la base del triángulo:  \"))\n",
        "ingresar_altura = int(input(\"Ingrese la altura del triángulo:  \"))\n",
        "ingresar_lado1 = int(input(\"Ingrese lado del triángulo:  \"))\n",
        "ingresar_lado2 = int(input(\"Ingrese lado del triángulo:  \"))\n",
        "lados_triangulo = Triangulo(ingresar_base, ingresar_altura, ingresar_lado1, ingresar_lado2)\n",
        "print(f\"El área del triángulo es: {lados_triangulo.area()} y el perímetro del triángulo es: {lados_triangulo.perimetro()}\")\n",
        "\n",
        "#Uso en cuadrado\n",
        "ingresar_lado = int(input(\"Ingrese el lado del cuadrado \"))\n",
        "lado_cuadrado = Cuadrado(ingresar_lado)\n",
        "print(f\"El área del cuadrado es: {lado_cuadrado.area()} y el perímetro del cuadrado es: {lado_cuadrado.perimetro()}\")\n"
      ],
      "metadata": {
        "colab": {
          "base_uri": "https://localhost:8080/"
        },
        "id": "9IfvBgjMPqC7",
        "outputId": "ca204349-b1e3-4c75-986f-71a2176c6971"
      },
      "execution_count": null,
      "outputs": [
        {
          "output_type": "stream",
          "name": "stdout",
          "text": [
            "Ingrese la base del rectángulo:  5\n",
            "Ingrese la altura del rectángulo:  5\n",
            "El área del rectángulo es: 25 y el perímetro del rectángulo es: 20\n",
            "Ingrese el radio del circulo 5\n",
            "El área del círculo es: 78.53981633974483 y el perímetro del círculo es: 31.41592653589793\n",
            "Ingrese la base del triángulo:  5\n",
            "Ingrese la altura del triángulo:  5\n",
            "Ingrese lado del triángulo:  5\n",
            "Ingrese lado del triángulo:  5\n",
            "El área del triángulo es: 12.5 y el perímetro del triángulo es: 15\n",
            "Ingrese el lado del cuadrado 5\n",
            "El área del cuadrado es: 25 y el perímetro del cuadrado es: 20\n"
          ]
        }
      ]
    },
    {
      "cell_type": "markdown",
      "source": [
        "5. Escriba un programa en Python para crear una clase que represente\n",
        "un carro de compras. Incluya métodos para agregar y quitar ítems, y\n",
        "para calcular el precio total."
      ],
      "metadata": {
        "id": "PVE3GwmeQHJk"
      }
    },
    {
      "cell_type": "code",
      "source": [
        "# clase producto donde definimos los atributos de los productos a ingresar al carro\n",
        "class Producto:\n",
        "  def __init__(self, id, nombre, cantidad, precio):\n",
        "    self._id = id\n",
        "    self._nombre = nombre\n",
        "    self._precio = precio\n",
        "    self._cantidad = cantidad\n",
        "\n",
        "  def __str__(self): #función str retorna los valores de la clase\n",
        "    return f\"Id {self._id}, Nombre: {self._nombre}, Cantidad: {self._cantidad}, Precio: {self._precio} \"\n",
        "\n",
        "#clase carro con el diccionario vacío para ir llenándolo de acuerdo a lo que ingrese el usuario\n",
        "#contiene los métodos de agregar (agrega productos al diccionario), eliminar (elimina productos del diccionario) y precio_total(determina el precio total a pagar según corresponda)\n",
        "class Carro:\n",
        "  def __init__(self):\n",
        "    self._productos = {}\n",
        "\n",
        "  def agregar(self, producto):\n",
        "    self._productos[producto._id] = producto\n",
        "\n",
        "  def eliminar(self, id):\n",
        "    try:\n",
        "      del self._productos[id]\n",
        "      print(\"Producto eliminado\")\n",
        "    except KeyError:\n",
        "      print(\"El producto no existe en el carro\")\n",
        "\n",
        "  def precio_total(self):\n",
        "    total_cantidad = sum(producto._cantidad for producto in self._productos.values())\n",
        "    total_valor = sum(producto._cantidad * producto._precio for producto in self._productos.values())\n",
        "    print(f\"Precio total a pagar: {total_valor}\")\n",
        "    for producto in self._productos.values():\n",
        "      print(producto)\n",
        "\n",
        "#este método permite al usuario elegir una opción a ejecutar,\n",
        "#según opción elegida el programa invoca o ejecuta alguno de los métodos establecidos anteiormente\n",
        "def menu():\n",
        "    carro = Carro()\n",
        "    while True:\n",
        "      print(\"Bienvenido a su carro de compras. Elija una opción: \")\n",
        "      print(\"1. Agregar producto\")\n",
        "      print(\"2. Eliminar producto\")\n",
        "      print(\"3. Precio total\")\n",
        "      print(\"4. Salir\")\n",
        "\n",
        "      opcion = input(\"Seleccione: \")\n",
        "      if opcion == '1':\n",
        "        try:\n",
        "          id = input(\"Ingrese el id del producto: \")\n",
        "          nombre = input(\"Ingrese el nombre: \")\n",
        "          cantidad = int(input(\"Cantidad del producto: \"))\n",
        "          precio = float(input(\"Ingrese el precio: \"))\n",
        "          nuevo_producto = Producto(id, nombre, cantidad, precio)\n",
        "          carro.agregar(nuevo_producto)\n",
        "        except ValueError:\n",
        "          print(\"La cantidad y el precio deben ser numéricos\")\n",
        "      elif opcion == '2':\n",
        "          try:\n",
        "             id = input(\"Ingrese el id del producto: \")\n",
        "             carro.eliminar(id)\n",
        "          except ValueError:\n",
        "            print(\"Error! Id no valido\")\n",
        "      elif opcion == '3':\n",
        "       carro.precio_total()\n",
        "      elif opcion == '4':\n",
        "       print(\"Saliendo...\")\n",
        "       break\n",
        "      else:\n",
        "       print(\"Opcion No valida...\")\n",
        "\n",
        "if __name__ == \"__main__\":\n",
        "  menu()"
      ],
      "metadata": {
        "colab": {
          "base_uri": "https://localhost:8080/"
        },
        "id": "2fRB_O7vgQaG",
        "outputId": "cca8629d-eceb-486d-9377-97b63e96cbce"
      },
      "execution_count": 1,
      "outputs": [
        {
          "output_type": "stream",
          "name": "stdout",
          "text": [
            "Bienvenido a su carro de compras. Elija una opción: \n",
            "1. Agregar producto\n",
            "2. Eliminar producto\n",
            "3. Precio total\n",
            "4. Salir\n",
            "Seleccione: 1\n",
            "Ingrese el id del producto: 1\n",
            "Ingrese el nombre: chocolate\n",
            "Cantidad del producto: 2\n",
            "Ingrese el precio: 5000\n",
            "Bienvenido a su carro de compras. Elija una opción: \n",
            "1. Agregar producto\n",
            "2. Eliminar producto\n",
            "3. Precio total\n",
            "4. Salir\n",
            "Seleccione: 1\n",
            "Ingrese el id del producto: 2\n",
            "Ingrese el nombre: galleta\n",
            "Cantidad del producto: 1\n",
            "Ingrese el precio: 2500\n",
            "Bienvenido a su carro de compras. Elija una opción: \n",
            "1. Agregar producto\n",
            "2. Eliminar producto\n",
            "3. Precio total\n",
            "4. Salir\n",
            "Seleccione: 3\n",
            "Precio total a pagar: 12500.0\n",
            "Id 1, Nombre: chocolate, Cantidad: 2, Precio: 5000.0 \n",
            "Id 2, Nombre: galleta, Cantidad: 1, Precio: 2500.0 \n",
            "Bienvenido a su carro de compras. Elija una opción: \n",
            "1. Agregar producto\n",
            "2. Eliminar producto\n",
            "3. Precio total\n",
            "4. Salir\n",
            "Seleccione: 2\n",
            "Ingrese el id del producto: 2\n",
            "Producto eliminado\n",
            "Bienvenido a su carro de compras. Elija una opción: \n",
            "1. Agregar producto\n",
            "2. Eliminar producto\n",
            "3. Precio total\n",
            "4. Salir\n",
            "Seleccione: 3\n",
            "Precio total a pagar: 10000.0\n",
            "Id 1, Nombre: chocolate, Cantidad: 2, Precio: 5000.0 \n",
            "Bienvenido a su carro de compras. Elija una opción: \n",
            "1. Agregar producto\n",
            "2. Eliminar producto\n",
            "3. Precio total\n",
            "4. Salir\n",
            "Seleccione: 4\n",
            "Saliendo...\n"
          ]
        }
      ]
    }
  ]
}