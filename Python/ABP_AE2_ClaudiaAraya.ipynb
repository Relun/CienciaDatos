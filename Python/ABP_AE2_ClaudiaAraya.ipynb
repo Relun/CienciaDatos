{
  "nbformat": 4,
  "nbformat_minor": 0,
  "metadata": {
    "colab": {
      "provenance": []
    },
    "kernelspec": {
      "name": "python3",
      "display_name": "Python 3"
    },
    "language_info": {
      "name": "python"
    }
  },
  "cells": [
    {
      "cell_type": "markdown",
      "source": [
        "1. Crear un programa que ingrese un número entero positivo, y el sistema\n",
        "le responda si ese número es par o impar"
      ],
      "metadata": {
        "id": "obdk_z5ZL7Ln"
      }
    },
    {
      "cell_type": "code",
      "source": [
        "numero = int(input(\"Ingresa un número entero positivo: \"))\n",
        "\n",
        "if (numero>0):\n",
        "  if numero % 2 == 0:\n",
        "      print(\"El número es par\")\n",
        "  else:\n",
        "      print(\"El número es impar\")\n",
        "else:\n",
        "  print(\"El número no es un entero positivo\")"
      ],
      "metadata": {
        "colab": {
          "base_uri": "https://localhost:8080/"
        },
        "id": "Ij98O7mCMHQc",
        "outputId": "67f475bd-5615-4019-f9b8-b51b9ecd4873"
      },
      "execution_count": 88,
      "outputs": [
        {
          "output_type": "stream",
          "name": "stdout",
          "text": [
            "Ingresa un número entero positivo: 8\n",
            "El número es par\n"
          ]
        }
      ]
    },
    {
      "cell_type": "markdown",
      "source": [
        "2. Crear un algoritmo que ingrese dos números y una operación\n",
        "matemática (básica), y el sistema le responda el resultado de esa\n",
        "operación."
      ],
      "metadata": {
        "id": "2i_BL53MPXL2"
      }
    },
    {
      "cell_type": "code",
      "source": [
        "primer_numero = int(input(\"Ingrese un número \"))\n",
        "segundo_numero = int(input(\"Ingrese un número \"))\n",
        "operacion = input(\"Ingrese una operación matemática: + - * /   \")\n",
        "\n",
        "if(operacion == \"+\"):\n",
        "  print(\"El resultado es: \", primer_numero + segundo_numero)\n",
        "elif(operacion == \"-\"):\n",
        "  print(\"El resultado es: \", primer_numero - segundo_numero)\n",
        "elif(operacion == \"*\"):\n",
        "  print(\"El resultado es: \", primer_numero * segundo_numero)\n",
        "elif(operacion == \"/\"):\n",
        "  print(\"El resultado es: \", primer_numero / segundo_numero)\n",
        "else:\n",
        "  print(\"No ha ingresado una operación correcta\")"
      ],
      "metadata": {
        "id": "kk9uSb14PfrD",
        "colab": {
          "base_uri": "https://localhost:8080/"
        },
        "outputId": "5c6e1d21-8123-4731-f809-6004211e6711"
      },
      "execution_count": 15,
      "outputs": [
        {
          "output_type": "stream",
          "name": "stdout",
          "text": [
            "Ingrese un número 6\n",
            "Ingrese un número 4\n",
            "Ingrese una operación matemática: + - * /   +\n",
            "El resultado es:  10\n"
          ]
        }
      ]
    },
    {
      "cell_type": "markdown",
      "source": [
        "3. Modifique el algoritmo de la pregunta 1 para que la lectura del número\n",
        "sea indefinida, hasta que el usuario ingrese un 0."
      ],
      "metadata": {
        "id": "gmrvp2z3Pj14"
      }
    },
    {
      "cell_type": "code",
      "source": [
        "numero = int(input(\"Ingresa un número: \"))\n",
        "\n",
        "while numero != 0: # si el nro es distinto de 0 pide ingresar nuevamente un nro, entra al if cuando el nro es 0\n",
        "  numero = int(input(\"Ingresa un número: \"))\n",
        "\n",
        "if numero % 2 == 0:\n",
        "      print(\"El número es par\")\n",
        "else:\n",
        "      print(\"El número es impar\")\n"
      ],
      "metadata": {
        "id": "1Udp34MfPmYr",
        "colab": {
          "base_uri": "https://localhost:8080/"
        },
        "outputId": "a7c54ca9-cb1c-40ad-fcd7-972f9f2be2db"
      },
      "execution_count": 18,
      "outputs": [
        {
          "output_type": "stream",
          "name": "stdout",
          "text": [
            "Ingresa un número: 4\n",
            "Ingresa un número: 587\n",
            "Ingresa un número: -854\n",
            "Ingresa un número: 0\n",
            "El número es par\n"
          ]
        }
      ]
    },
    {
      "cell_type": "markdown",
      "source": [
        "4. Crear un programa dibuje un rectángulo con el símbolo “*”. La anchura\n",
        "y altura deben ser indicadas por el usuario.\n"
      ],
      "metadata": {
        "id": "uT8ZWHiwfcCD"
      }
    },
    {
      "cell_type": "code",
      "source": [
        "altura = int(input(\"Ingrese la altura del rectángulo \"))\n",
        "anchura = int(input(\"Ingrese el ancho del rectángulo \"))\n",
        "\n",
        "for i in range (altura):\n",
        "  for j in range (anchura):\n",
        "      print(\"*\",end=\"\") # end: para que no exista salto de línea hasta que se acabe el nro de ancho\n",
        "  print(\"\") # permite que cambie de línea, que salte a la línea de abajo"
      ],
      "metadata": {
        "colab": {
          "base_uri": "https://localhost:8080/"
        },
        "id": "l8oWtEhWr7rd",
        "outputId": "75f2c558-5b73-4990-f076-eb758bc73f52"
      },
      "execution_count": 51,
      "outputs": [
        {
          "output_type": "stream",
          "name": "stdout",
          "text": [
            "Ingrese la altura del rectángulo 3\n",
            "Ingrese el ancho del rectángulo 5\n",
            "*****\n",
            "*****\n",
            "*****\n"
          ]
        }
      ]
    },
    {
      "cell_type": "markdown",
      "source": [
        "5. Un número factorial se define por:\n",
        "n! = n*(n-1)*(n-2)*(n-3)……3*2*1\n",
        "por ejemplo:\n",
        "5! = 5*4*3*2*1 = 120\n",
        "Crear un programa que lea la entrada de un número entero positivo y\n",
        "devuelva el valor del número factorial."
      ],
      "metadata": {
        "id": "8HkP2xailWMe"
      }
    },
    {
      "cell_type": "code",
      "source": [
        "numero = int(input(\"Ingresa un número entero positivo \"))\n",
        "factorial = 1 #parte en 1 por la multiplicación\n",
        "\n",
        "if numero > 0:\n",
        "  for i in range (1, numero+1): # límite inferior, límite superior + 1 por el índice\n",
        "    factorial=factorial*i #factorial en su primera iteración tiene el valor de 1\n",
        "    #print(f\"{i}* {factorial}\")\n",
        "  print(factorial)\n",
        "else:\n",
        "  print(\"Número incorrecto\")\n"
      ],
      "metadata": {
        "colab": {
          "base_uri": "https://localhost:8080/"
        },
        "id": "boFCB7ArEdFX",
        "outputId": "7e3cafb8-ddee-4e4f-d934-f78f04a7cdb1"
      },
      "execution_count": 89,
      "outputs": [
        {
          "output_type": "stream",
          "name": "stdout",
          "text": [
            "Ingresa un número entero positivo 5\n",
            "120\n"
          ]
        }
      ]
    },
    {
      "cell_type": "markdown",
      "source": [
        "6. Crea un programa que muestre la tabla de multiplicar de un número\n",
        "específico (por ejemplo, el 7).\n"
      ],
      "metadata": {
        "id": "7LVja8_Dlfy_"
      }
    },
    {
      "cell_type": "code",
      "source": [
        "numero = int(input(\"Ingresa número para crear tu tabla \"))\n",
        "\n",
        "for i in range (1, 11): # límite inferior, límite superior + 1 por el índice\n",
        "  tabla = numero * i\n",
        "\n",
        "  print(f\"{numero}x{i} =\", tabla)\n"
      ],
      "metadata": {
        "colab": {
          "base_uri": "https://localhost:8080/"
        },
        "id": "kNPmvqPox3uu",
        "outputId": "39b85a5b-034f-44c6-f412-e8cbcf57fb6c"
      },
      "execution_count": 58,
      "outputs": [
        {
          "output_type": "stream",
          "name": "stdout",
          "text": [
            "Ingresa número para crear tu tabla 3\n",
            "3x1 = 3\n",
            "3x2 = 6\n",
            "3x3 = 9\n",
            "3x4 = 12\n",
            "3x5 = 15\n",
            "3x6 = 18\n",
            "3x7 = 21\n",
            "3x8 = 24\n",
            "3x9 = 27\n",
            "3x10 = 30\n"
          ]
        }
      ]
    }
  ]
}