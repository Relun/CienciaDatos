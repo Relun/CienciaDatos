{
  "nbformat": 4,
  "nbformat_minor": 0,
  "metadata": {
    "colab": {
      "provenance": []
    },
    "kernelspec": {
      "name": "python3",
      "display_name": "Python 3"
    },
    "language_info": {
      "name": "python"
    }
  },
  "cells": [
    {
      "cell_type": "markdown",
      "source": [
        "Caso:\n",
        "En una clínica infantil se ha ido anotando, durante un mes, el número de\n",
        "metros que cada niño anda, seguido y sin caerse, el primer día que comienza\n",
        "a caminar, obteniéndose la tabla de información adjunta:\n",
        "\n",
        "| Metros | Niños |\n",
        "|--------|-------|\n",
        "|   1    |  2    |\n",
        "|   2    |  6    |\n",
        "|   3    |  10   |\n",
        "|   4    |  5    |\n",
        "|   5    |  10   |\n",
        "|   6    |  3    |\n",
        "|   7    |  2    |\n",
        "|   8    |  2    |\n"
      ],
      "metadata": {
        "id": "G3FparGn7Okn"
      }
    },
    {
      "cell_type": "code",
      "source": [
        "import pandas as pd\n",
        "import numpy as np\n",
        "#import statistics as stat\n",
        "\n",
        "# Ingreso de datos\n",
        "tabla = pd.DataFrame(\n",
        "    {\n",
        "        'Metros': range(1,9), # 6,7,8,9,10\n",
        "        'Niños': [2,6,10,5,10,3,2,2]\n",
        "    }\n",
        ")\n",
        "\n",
        "print(tabla)"
      ],
      "metadata": {
        "colab": {
          "base_uri": "https://localhost:8080/"
        },
        "id": "LbIAYjRT9mGc",
        "outputId": "e1dd6305-905b-4664-ddee-d52e08ee7240"
      },
      "execution_count": 17,
      "outputs": [
        {
          "output_type": "stream",
          "name": "stdout",
          "text": [
            "   Metros  Niños\n",
            "0       1      2\n",
            "1       2      6\n",
            "2       3     10\n",
            "3       4      5\n",
            "4       5     10\n",
            "5       6      3\n",
            "6       7      2\n",
            "7       8      2\n"
          ]
        }
      ]
    },
    {
      "cell_type": "markdown",
      "source": [
        "a) Tabla de Frecuencia. Diagrama de Barras para las frecuencias\n",
        "absolutas, relativas y acumuladas.\n"
      ],
      "metadata": {
        "id": "S98E_JfD8a6W"
      }
    },
    {
      "cell_type": "code",
      "source": [
        "#Se usó como frecuencia absoluta a los niños\n",
        "# Cálculo frecuencia acumulada\n",
        "tabla['Frec acumulada'] = tabla['Niños'].cumsum() #cumsum se usa para sacar la suma acumulativa\n",
        "#print(tabla)\n",
        "\n",
        "# Cálculo de la frecuencia total de los niños\n",
        "frecuencia_total = tabla['Niños'].sum()\n",
        "#print(frecuencia_total)\n",
        "\n",
        "# Cálculo de la frecuencia relativa\n",
        "tabla['Frec relativa'] = tabla['Niños'] / frecuencia_total\n",
        "#print(tabla)\n",
        "\n",
        "# Cálculo de la frecuencia acumulada relativa\n",
        "tabla['Frec acumulada relativa'] = tabla['Frec relativa'].cumsum()\n",
        "print(tabla)"
      ],
      "metadata": {
        "colab": {
          "base_uri": "https://localhost:8080/"
        },
        "id": "L2X_Ww7J9nE6",
        "outputId": "5d361dbf-5e31-4ca1-b079-8546342b34df"
      },
      "execution_count": 18,
      "outputs": [
        {
          "output_type": "stream",
          "name": "stdout",
          "text": [
            "   Metros  Niños  Frec acumulada  Frec relativa  Frec acumulada relativa\n",
            "0       1      2               2          0.050                    0.050\n",
            "1       2      6               8          0.150                    0.200\n",
            "2       3     10              18          0.250                    0.450\n",
            "3       4      5              23          0.125                    0.575\n",
            "4       5     10              33          0.250                    0.825\n",
            "5       6      3              36          0.075                    0.900\n",
            "6       7      2              38          0.050                    0.950\n",
            "7       8      2              40          0.050                    1.000\n"
          ]
        }
      ]
    },
    {
      "cell_type": "code",
      "source": [
        "import matplotlib.pyplot as plt\n",
        "\n",
        "plt.bar(tabla['Metros'], tabla['Niños'])\n",
        "plt.xlabel('Metros')\n",
        "plt.ylabel('Niños (FA)')\n",
        "plt.yticks(range(0,13,2))\n",
        "plt.title('Diagrama de barras para frecuencias absolutas')\n",
        "plt.grid(True, axis='y')\n",
        "plt.gca().set_axisbelow(True) # Indicar que las lineas de la grilla queden detrás de lo graficado\n",
        "plt.show()"
      ],
      "metadata": {
        "colab": {
          "base_uri": "https://localhost:8080/",
          "height": 472
        },
        "id": "zfpQFvPybhId",
        "outputId": "dd7892d0-d210-434d-f0d2-de131d4cf44b"
      },
      "execution_count": 42,
      "outputs": [
        {
          "output_type": "display_data",
          "data": {
            "text/plain": [
              "<Figure size 640x480 with 1 Axes>"
            ],
            "image/png": "[encoded data removed]"
          },
          "metadata": {}
        }
      ]
    },
    {
      "cell_type": "code",
      "source": [
        "plt.bar(tabla['Metros'], tabla['Frec relativa'])\n",
        "plt.xlabel('Metros')\n",
        "plt.ylabel('Frecuencias relativas')\n",
        "plt.yticks([i/10 for i in range(0, 4, 1)])\n",
        "plt.title('Diagrama de barras para frecuencias relativas')\n",
        "plt.grid(True, axis='y')\n",
        "plt.gca().set_axisbelow(True) # Indicar que las lineas de la grilla queden detrás de lo graficado\n",
        "plt.show()"
      ],
      "metadata": {
        "colab": {
          "base_uri": "https://localhost:8080/",
          "height": 472
        },
        "id": "BwQmBHWQcNku",
        "outputId": "945f0a62-fab9-46ab-b7df-060338017e29"
      },
      "execution_count": 50,
      "outputs": [
        {
          "output_type": "display_data",
          "data": {
            "text/plain": [
              "<Figure size 640x480 with 1 Axes>"
            ],
            "image/png": "[encoded data removed]"
          },
          "metadata": {}
        }
      ]
    },
    {
      "cell_type": "code",
      "source": [
        "plt.bar(tabla['Metros'], tabla['Frec acumulada'])\n",
        "plt.xlabel('Metros')\n",
        "plt.ylabel('Frecuencias acumuladas')\n",
        "plt.yticks(range(0,46,5))\n",
        "plt.title('Diagrama de barras para frecuencias acumulada')\n",
        "plt.grid(True, axis='y')\n",
        "plt.gca().set_axisbelow(True) # Indicar que las lineas de la grilla queden detrás de lo graficado\n",
        "plt.show()"
      ],
      "metadata": {
        "colab": {
          "base_uri": "https://localhost:8080/",
          "height": 472
        },
        "id": "5J2g-w_bd0wn",
        "outputId": "e6d939b2-2e05-447a-c7aa-865817d07d7a"
      },
      "execution_count": 51,
      "outputs": [
        {
          "output_type": "display_data",
          "data": {
            "text/plain": [
              "<Figure size 640x480 with 1 Axes>"
            ],
            "image/png": "[encoded data removed]"
          },
          "metadata": {}
        }
      ]
    },
    {
      "cell_type": "markdown",
      "source": [
        "b) Mediana, media aritmética, moda y cuartiles.\n"
      ],
      "metadata": {
        "id": "EhHyRGT68efc"
      }
    },
    {
      "cell_type": "code",
      "source": [
        "# Media\n",
        "ninos = np.repeat(tabla['Metros'], tabla['Niños']).to_list()\n",
        "#repeat() (de numpy) repite lo de la columna metros, la cantidad de veces que le indica la columna niños\n",
        "#to_list lleva el resultado anterior (serie) a una lista\n",
        "media = sum(ninos)/len(ninos)#suma los valores y los divide por el largo\n",
        "print(f'Media: {media}')\n",
        "\n",
        "# Mediana\n",
        "mediana = np.median(np.array(ninos))#a median() le entregamos el arreglo y nos devuelve la mediana\n",
        "print(f'Mediana: {mediana}')\n",
        "\n",
        "# Moda\n",
        "moda = tabla[tabla['Niños']==max(tabla['Niños'])]['Metros']\n",
        "#buscamos el valor máximo de la columna niños y buscamos el o los valores que coincidan con ese máximo\n",
        "#y que me muestre a cuántos metros corresponde\n",
        "print(f'El resultado es bimodal: {moda[2]} y {moda[4]} metros')"
      ],
      "metadata": {
        "colab": {
          "base_uri": "https://localhost:8080/"
        },
        "id": "BSQ0__oDKxKV",
        "outputId": "bae328b6-c53f-4ad3-ff45-8f0ba78521a9"
      },
      "execution_count": 31,
      "outputs": [
        {
          "output_type": "stream",
          "name": "stdout",
          "text": [
            "Media: 4.05\n",
            "Mediana: 4.0\n",
            "El resultado es bimodal: 3 y 5 metros\n"
          ]
        }
      ]
    },
    {
      "cell_type": "code",
      "source": [
        "# Calcular los cuartiles\n",
        "# Cálculo de la frecuencia acumulada relativa%\n",
        "tabla['Frec acu rel %'] = tabla['Frec acumulada relativa'] *100\n",
        "print(tabla['Frec acu rel %'])"
      ],
      "metadata": {
        "colab": {
          "base_uri": "https://localhost:8080/"
        },
        "id": "sFll-8ZhUMxR",
        "outputId": "02ce9afc-8e4e-4720-c6ee-7fd034be10e2"
      },
      "execution_count": 35,
      "outputs": [
        {
          "output_type": "stream",
          "name": "stdout",
          "text": [
            "0      5.0\n",
            "1     20.0\n",
            "2     45.0\n",
            "3     57.5\n",
            "4     82.5\n",
            "5     90.0\n",
            "6     95.0\n",
            "7    100.0\n",
            "Name: Frec acu rel %, dtype: float64\n"
          ]
        }
      ]
    },
    {
      "cell_type": "markdown",
      "source": [
        "Según los porcentajes entregados por las frecuencias relativas acumuladas de la tabla,\n",
        "estos porcentajes exactos no existen, por lo tanto se toman los inmediatamente superiores, quedándo: 25% =3, 50%=4 y 75%=5"
      ],
      "metadata": {
        "id": "Hk_WW9VCVr7K"
      }
    },
    {
      "cell_type": "markdown",
      "source": [
        "c) Varianza y desviación Estándar."
      ],
      "metadata": {
        "id": "zhLHApmQ8hgs"
      }
    },
    {
      "cell_type": "code",
      "source": [
        "# Varianza\n",
        "varianza = np.var(ninos)\n",
        "print(f'Varianza: {varianza:.4f}')\n",
        "\n",
        "# Desviacion estandar\n",
        "dest = np.std(ninos)\n",
        "print(f'Desviacion estándar: {dest:.4f}')"
      ],
      "metadata": {
        "colab": {
          "base_uri": "https://localhost:8080/"
        },
        "id": "9DYZJMrJZ0rK",
        "outputId": "bc33ce5e-1a0e-472f-f769-f728ecae8466"
      },
      "execution_count": 39,
      "outputs": [
        {
          "output_type": "stream",
          "name": "stdout",
          "text": [
            "Varianza: 3.0975\n",
            "Desviacion estándar: 1.7600\n"
          ]
        }
      ]
    },
    {
      "cell_type": "markdown",
      "source": [
        "d) ¿Entre qué dos valores se encuentra, como mínimo, el 75% de las\n",
        "observaciones?\n"
      ],
      "metadata": {
        "id": "zr-Gs1Jl8jnd"
      }
    },
    {
      "cell_type": "markdown",
      "source": [
        " El Teorema de Chebyshev garantiza que, como mínimo, el (1−\n",
        "1/k\n",
        "2\n",
        ")· 100% de los datos se concentran en el intervalo (x−kσ,\n",
        "x+kσ) y, por tanto, fuera de dicho intervalo se encuentra, a lo\n",
        "sumo, el 1/k\n",
        "2\n",
        "· 100% de ellos.\n",
        "Conforme a este teorema, imponemos que:\n",
        "\n",
        "$$\n",
        "\\ 75 \\ = {(1 - 1/k^2)} {* 100 }\n",
        "$$\n",
        "\n",
        "donde $k$=2.\n",
        "\n"
      ],
      "metadata": {
        "id": "_QKdQIiJiSLv"
      }
    },
    {
      "cell_type": "code",
      "execution_count": 57,
      "metadata": {
        "colab": {
          "base_uri": "https://localhost:8080/"
        },
        "id": "T2Khv5sk62un",
        "outputId": "43cd7168-a2f7-4c79-9856-b3cd63c8aac1"
      },
      "outputs": [
        {
          "output_type": "stream",
          "name": "stdout",
          "text": [
            "Al menos el 75% de los datos se encuentran entre los valores 0.53 y 7.57\n"
          ]
        }
      ],
      "source": [
        "#Intervalo de confianza\n",
        "inferior = media - 2 * dest\n",
        "superior = media + 2 * dest\n",
        "print(f'Al menos el 75% de los datos se encuentran entre los valores {inferior:.2f} y {superior:.2f}')"
      ]
    }
  ]
}