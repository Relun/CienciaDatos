{
  "nbformat": 4,
  "nbformat_minor": 0,
  "metadata": {
    "colab": {
      "provenance": [],
      "include_colab_link": true
    },
    "kernelspec": {
      "name": "python3",
      "display_name": "Python 3"
    },
    "language_info": {
      "name": "python"
    }
  },
  "cells": [
    {
      "cell_type": "markdown",
      "metadata": {
        "id": "view-in-github",
        "colab_type": "text"
      },
      "source": [
        "<a href=\"https://colab.research.google.com/github/Relun/CienciaDatos/blob/main/ABP_AE3_ClaudiaAraya.ipynb\" target=\"_parent\"><img src=\"https://colab.research.google.com/assets/colab-badge.svg\" alt=\"Open In Colab\"/></a>"
      ]
    },
    {
      "cell_type": "markdown",
      "source": [
        "Construye un algoritmo utilizando estructuras de datos del lenguaje\n",
        "Python para resolver un problema."
      ],
      "metadata": {
        "id": "GRVUH-MRfXrk"
      }
    },
    {
      "cell_type": "markdown",
      "source": [
        "1. Dada la lista L = [“almacenar”, 8, “a”, [1,2,3], True, (0,0,1), 85.7]\n",
        "\n",
        "a. ¿Cuál de estos elementos pertenece a la lista? (Escoja según\n",
        "corresponda, debe comentarlo en su script)\n",
        "\n",
        "![image.png](data:image/png;base64,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)\n"
      ],
      "metadata": {
        "id": "jdJlACOzf8jT"
      }
    },
    {
      "cell_type": "code",
      "source": [
        "L = [\"almacenar\", 8, \"a\", [1,2,3], True, (0,0,1), 85.7]\n",
        "\n",
        "#Estos print mostrarán los elementos de la imagen que pertenecen a la lista\n",
        "print(L[2])\n",
        "print(L[3])\n",
        "print(L[4])\n",
        "print(L[6])\n"
      ],
      "metadata": {
        "colab": {
          "base_uri": "https://localhost:8080/"
        },
        "id": "93rKf1v24472",
        "outputId": "29e99a4e-685a-41df-8d30-e70a126f80f7"
      },
      "execution_count": null,
      "outputs": [
        {
          "output_type": "stream",
          "name": "stdout",
          "text": [
            "a\n",
            "[1, 2, 3]\n",
            "True\n",
            "85.7\n"
          ]
        }
      ]
    },
    {
      "cell_type": "markdown",
      "source": [
        "b. ¿Cómo obtener la posición en que se encuentra el elemento (0,0,1)? (Cree la lista y entregue la ubicación del elemento).\n",
        "\n"
      ],
      "metadata": {
        "id": "uf3r1nZb6RuE"
      }
    },
    {
      "cell_type": "code",
      "source": [
        "L = [\"almacenar\", 8, \"a\", [1,2,3], True, (0,0,1), 85.7]\n",
        "print(L[5])"
      ],
      "metadata": {
        "colab": {
          "base_uri": "https://localhost:8080/"
        },
        "id": "RbIx832H7cXs",
        "outputId": "2a608a64-14c8-4e79-c44b-5ad10a3bed2e"
      },
      "execution_count": null,
      "outputs": [
        {
          "output_type": "stream",
          "name": "stdout",
          "text": [
            "(0, 0, 1)\n"
          ]
        }
      ]
    },
    {
      "cell_type": "markdown",
      "source": [
        "c. ¿Cómo eliminar el último elemento, independientemente de cuántos elementos haya en la lista? (Use la función adecuada en su lista)\n",
        "\n"
      ],
      "metadata": {
        "id": "2uH2hndh7Zhh"
      }
    },
    {
      "cell_type": "code",
      "source": [
        "L = [\"almacenar\", 8, \"a\", [1,2,3], True, (0,0,1), 85.7]\n",
        "del L[-1] #esto borra el elemento en la última posición\n",
        "print(L)"
      ],
      "metadata": {
        "colab": {
          "base_uri": "https://localhost:8080/"
        },
        "id": "ScZTgA0K7ob2",
        "outputId": "d783dfb3-351a-4566-9f95-06c6d61205c1"
      },
      "execution_count": null,
      "outputs": [
        {
          "output_type": "stream",
          "name": "stdout",
          "text": [
            "['almacenar', 8, 'a', [1, 2, 3], True, (0, 0, 1)]\n"
          ]
        }
      ]
    },
    {
      "cell_type": "markdown",
      "source": [
        "d. Utilizar una operación para contar cuántas veces aparece el string “a”. Use una función que entregue la cantidad exacta"
      ],
      "metadata": {
        "id": "aYKvYw8j7bTy"
      }
    },
    {
      "cell_type": "code",
      "source": [
        "L = [\"almacenar\", 8, \"a\", [1,2,3], True, (0,0,1), 85.7]\n",
        "#print(len(L))\n",
        "print(L.count(\"a\")) #cuenta el elemento\n"
      ],
      "metadata": {
        "colab": {
          "base_uri": "https://localhost:8080/"
        },
        "id": "Sa0hLKaF9o4j",
        "outputId": "ec4c18d3-792b-4b9b-e933-31a375ffb7a9"
      },
      "execution_count": null,
      "outputs": [
        {
          "output_type": "stream",
          "name": "stdout",
          "text": [
            "1\n"
          ]
        }
      ]
    },
    {
      "cell_type": "markdown",
      "source": [
        "\n",
        "2. Escribir un programa que pida al usuario una palabra y muestre por\n",
        "pantalla si es un palíndromo.\n",
        "\n"
      ],
      "metadata": {
        "id": "yDjepd7NgTnV"
      }
    },
    {
      "cell_type": "code",
      "source": [
        "def palindromo(palabra):\n",
        "  if palabra == \"\".join(reversed(palabra)): #si la palabra escrita ingresada por el usuario, al revés es igual\n",
        "    print('Es un Palíndromo')\n",
        "  else:\n",
        "    print('No es un Palíndromo')\n",
        "  return\n",
        "\n",
        "palabra = str(input(\"Ingresa una palabra \"))\n",
        "palindromo(palabra)\n"
      ],
      "metadata": {
        "colab": {
          "base_uri": "https://localhost:8080/"
        },
        "id": "Xk24cngy-4JI",
        "outputId": "28123b03-4f19-4006-f3ca-ea81969945c4"
      },
      "execution_count": null,
      "outputs": [
        {
          "output_type": "stream",
          "name": "stdout",
          "text": [
            "Ingresa una palabra radar\n",
            "Es un Palíndromo\n"
          ]
        }
      ]
    },
    {
      "cell_type": "markdown",
      "source": [
        "3. Escribir un programa que almacene en una lista los números del 1 al\n",
        "10 y los muestre por pantalla en orden inverso separados por comas."
      ],
      "metadata": {
        "id": "IlyAkaysgpvl"
      }
    },
    {
      "cell_type": "code",
      "source": [
        "lista = []\n",
        "for x in range(1, 10+1):\n",
        "     agregada = lista.append(x) #agrega los números del 1 al 10 a la lista\n",
        "     invertida = list(reversed(lista)) #invierte la lista anterior\n",
        "print(f\"La lista es: {lista}\")\n",
        "print(f\"La lista invertida es: {invertida}\")\n"
      ],
      "metadata": {
        "colab": {
          "base_uri": "https://localhost:8080/"
        },
        "id": "5X4F0kdADfkq",
        "outputId": "236d1de2-6ab5-43f8-c159-ccbd400874db"
      },
      "execution_count": null,
      "outputs": [
        {
          "output_type": "stream",
          "name": "stdout",
          "text": [
            "La lista es: [1, 2, 3, 4, 5, 6, 7, 8, 9, 10]\n",
            "La lista invertida es: [10, 9, 8, 7, 6, 5, 4, 3, 2, 1]\n"
          ]
        }
      ]
    },
    {
      "cell_type": "markdown",
      "source": [
        "4. Escribir un programa que almacene las asignaturas de un curso (por\n",
        "ejemplo Matemáticas, Física, Química, Historia y Lengua) en una lista,\n",
        "pregunte al usuario la nota que ha sacado en cada asignatura, y\n",
        "después las muestre por pantalla con el mensaje En <asignatura> has\n",
        "sacado <nota> donde <asignatura> es cada una de las asignaturas de\n",
        "la lista y <nota> cada una de las correspondientes notas introducidas\n",
        "por el usuario"
      ],
      "metadata": {
        "id": "2nyCmpD2gsp-"
      }
    },
    {
      "cell_type": "code",
      "source": [
        "asignaturas = [\"Matemáticas \", \"Física \", \"Química \", \"Historia \", \"Lengua \"]\n",
        "notas =[]\n",
        "\n",
        "for asignatura in asignaturas:\n",
        "    nota = input(\"Escribe tu nota en:  \" + asignatura) #va agregando las notas en la asignatura correspondiente\n",
        "    notas.append(nota)\n",
        "for i in range(len(asignaturas)): #busca el índica correspondiente a nota y asignatura\n",
        "    print(\"En \" + asignaturas[i] + \" has sacado \" + notas[i])\n"
      ],
      "metadata": {
        "colab": {
          "base_uri": "https://localhost:8080/"
        },
        "id": "EuD0I3ywFMex",
        "outputId": "1bf16b79-46f1-4802-ddfe-f588a4985c6d"
      },
      "execution_count": null,
      "outputs": [
        {
          "output_type": "stream",
          "name": "stdout",
          "text": [
            "Escribe tu nota en:  Matemáticas 7\n",
            "Escribe tu nota en:  Física 7\n",
            "Escribe tu nota en:  Química 6\n",
            "Escribe tu nota en:  Historia 2\n",
            "Escribe tu nota en:  Lengua 2\n",
            "En Matemáticas  has sacado 7\n",
            "En Física  has sacado 7\n",
            "En Química  has sacado 6\n",
            "En Historia  has sacado 2\n",
            "En Lengua  has sacado 2\n"
          ]
        }
      ]
    },
    {
      "cell_type": "markdown",
      "source": [
        "5. Escribir un programa que almacene las matrices:\n",
        "\n",
        "![image.png](data:image/png;base64,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)\n",
        "\n",
        "en una lista y muestre por pantalla su producto.\n",
        "\n",
        "Nota: Para representar matrices mediante listas usar listas anidadas,\n",
        "representando cada vector fila en una lista.\n"
      ],
      "metadata": {
        "id": "Ezg92EqBgvnI"
      }
    },
    {
      "cell_type": "code",
      "source": [
        "#Para mostrar las matrices en este ejercicio, se importó la librería numpy\n",
        "import numpy as np\n",
        "\n",
        "A = np.array([[1,2,3],[4,5,6]])\n",
        "B = np.array([[-1,0],[0,1],[1,1]])\n",
        "A, B\n"
      ],
      "metadata": {
        "colab": {
          "base_uri": "https://localhost:8080/"
        },
        "id": "3s3ejZpYLI1c",
        "outputId": "d2dfe9da-6957-4f54-e81c-be0970311a51"
      },
      "execution_count": null,
      "outputs": [
        {
          "output_type": "execute_result",
          "data": {
            "text/plain": [
              "(array([[1, 2, 3],\n",
              "        [4, 5, 6]]),\n",
              " array([[-1,  0],\n",
              "        [ 0,  1],\n",
              "        [ 1,  1]]))"
            ]
          },
          "metadata": {},
          "execution_count": 88
        }
      ]
    },
    {
      "cell_type": "markdown",
      "source": [
        "6. Escribir un programa que guarde en una variable el\n",
        "diccionario {'Euro':'€', 'Dollar':'$', 'Yen':'¥'}, pregunte al usuario por una\n",
        "divisa y muestre su símbolo o un mensaje de aviso si la divisa no está\n",
        "en el diccionario."
      ],
      "metadata": {
        "id": "JckOdsEPhJA0"
      }
    },
    {
      "cell_type": "code",
      "source": [
        "divisas = {'Euro':'€', 'Dollar':'$', 'Yen':'¥'}\n",
        "#print(list(divisas.values()))\n",
        "#print(list(divisas.keys()))\n",
        "divisa_usuario = str(input(\"Ingresa una divisa: \"))\n",
        "\n",
        "if divisa_usuario in divisas: #busca si la divisa ingresada por el usuario se encuentra en el diccionario y si está hace match\n",
        "  print(f'La divisa {divisa_usuario} está en el diccionario y su símbolo es {divisas[divisa_usuario]}')\n",
        "else:\n",
        "  print(\"La divisa no está en el diccionario\")"
      ],
      "metadata": {
        "colab": {
          "base_uri": "https://localhost:8080/"
        },
        "id": "VnnCW0rsN5Fy",
        "outputId": "a0c2a9aa-0903-4570-aab0-f1d0399be05b"
      },
      "execution_count": null,
      "outputs": [
        {
          "output_type": "stream",
          "name": "stdout",
          "text": [
            "Ingresa una divisa: Yen\n",
            "La divisa Yen está en el diccionario y su símbolo es ¥\n"
          ]
        }
      ]
    },
    {
      "cell_type": "markdown",
      "source": [
        "7. Escribir un programa que pregunte una fecha en\n",
        "formato dd/mm/aaaa y muestre por pantalla la misma fecha en\n",
        "formato dd de <mes> de aaaa, donde <mes> es el nombre del mes."
      ],
      "metadata": {
        "id": "S-kXHJnxhL6w"
      }
    },
    {
      "cell_type": "code",
      "source": [
        "fecha_usuario = input(\"Ingrese una fecha en formato dd/mm/aaaa\")\n",
        "separar_fecha = fecha_usuario.split('/') #dividir una cadena en subcadenas, separa la cadena ingresada por el usuario\n",
        "mes={\n",
        "    1:'Enero',\n",
        "    2:'Febrero',\n",
        "    3:'Marzo',\n",
        "    4:'Abril',\n",
        "    5:'Mayo',\n",
        "    6:'Junio',\n",
        "    7:'Julio',\n",
        "    8:'Agosto',\n",
        "    9:'Septiembre',\n",
        "    10:'Octubre',\n",
        "    11:'Noviembre',\n",
        "    12:'Diciembre'\n",
        "      }\n",
        "#la fecha ingresada por el usuario se separa en distintos elementos con split(), queda sí [\"día\", \"mes\", \"año\"]\n",
        "#primero obtiene el valor del día que queda en el índice 0, luego el mes queda en el índice 1 y finalmente el año en el índice 2\n",
        "print(separar_fecha[0], 'de', mes[int(separar_fecha[1])], 'de', separar_fecha[2])\n"
      ],
      "metadata": {
        "colab": {
          "base_uri": "https://localhost:8080/"
        },
        "id": "baGgf0TwTnMG",
        "outputId": "fbc10611-76b3-49ad-862e-7f94a03c009e"
      },
      "execution_count": null,
      "outputs": [
        {
          "output_type": "stream",
          "name": "stdout",
          "text": [
            "Ingrese una fecha en formato dd/mm/aaaa24/3/1986\n",
            "24 de Marzo de 1986\n"
          ]
        }
      ]
    }
  ]
}