{
  "nbformat": 4,
  "nbformat_minor": 0,
  "metadata": {
    "colab": {
      "provenance": []
    },
    "kernelspec": {
      "name": "python3",
      "display_name": "Python 3"
    },
    "language_info": {
      "name": "python"
    }
  },
  "cells": [
    {
      "cell_type": "markdown",
      "source": [
        "Realizar cálculos de probabilidades seleccionando la distribución de\n",
        "probabilidades para resolver un problema.\n",
        "\n",
        "![image.png](data:image/png;base64,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)\n",
        "\n"
      ],
      "metadata": {
        "id": "EXRowsAQUl3r"
      }
    },
    {
      "cell_type": "code",
      "source": [
        "import scipy.stats as ss\n",
        "from scipy.stats import norm\n",
        "from scipy.stats import binom"
      ],
      "metadata": {
        "id": "JjfrtmeSVTas"
      },
      "execution_count": 11,
      "outputs": []
    },
    {
      "cell_type": "markdown",
      "source": [
        "# Caso 1:\n",
        "Variable aleatoria en Distribución normal.\n",
        "\n",
        "Si X es una variable aleatoria de una distribución 𝑁𝑜𝑟𝑚𝑎𝑙(𝜇, 𝜎), hallar:\n",
        "𝑃(𝜇 − 3𝜎 < 𝑋 < 𝜇 + 3𝜎)\n"
      ],
      "metadata": {
        "id": "rBNbf2GPUuc1"
      }
    },
    {
      "cell_type": "code",
      "source": [
        "#se busca que la varible X esté dentro de 3 desviaciones estandar de la media\n",
        "#se definen valores para mu y sigma para desarrollar el ejercicio\n",
        "mu = 14 #media\n",
        "sigma = 6 #desviación estándar\n",
        "\n",
        "#se usa cdf ( distribución acumulada de probabilidad)\n",
        "#cdf entrega probabilidad acumulativa de que una variable aleatoria normal esté por debajo de un cierto valor x\n",
        "\n",
        "#límite superior y límite inferior de la distribución normal\n",
        "X = ss.norm(mu, sigma)\n",
        "probabilidad = X.cdf(mu + 3*sigma) - X.cdf(mu - 3*sigma)\n",
        "print(probabilidad)"
      ],
      "metadata": {
        "colab": {
          "base_uri": "https://localhost:8080/"
        },
        "id": "AXN6kRSPWA97",
        "outputId": "00e30b86-ed9f-4416-9a3d-f9f3c4cf14b9"
      },
      "execution_count": 3,
      "outputs": [
        {
          "output_type": "stream",
          "name": "stdout",
          "text": [
            "0.9973002039367398\n"
          ]
        }
      ]
    },
    {
      "cell_type": "markdown",
      "source": [
        "# Caso 2:\n",
        "Distribución normal, media y desviación típica.\n",
        "\n",
        "En una distribución normal de media 4 y desviación típica 2 , calcular el\n",
        "valor de 𝑎 para que: 𝑃(4 − 𝑎 < 𝑋 < 4 + 𝑎) = 0.5934"
      ],
      "metadata": {
        "id": "VCrVuoS8Uyfh"
      }
    },
    {
      "cell_type": "code",
      "source": [
        "p = 0.5935 #Probabilidad dada\n",
        "mu = 4\n",
        "sigma = 2\n",
        "X = ss.norm(mu, sigma)\n",
        "\n",
        "#ppf() calcula el percentil correspondiente a una probabilidad acumulada dada.\n",
        "#se debe encontrar el percentil correspondiente a la mitad de la probabilidad deseada a cada lado de la media.\n",
        "#Por eso se divide probabilidad deseada en2. Luego se resta mu para obtener el valor real de a en la distribución original.\n",
        "a = X.ppf((1 + p) / 2) - mu\n",
        "\n",
        "print(a)"
      ],
      "metadata": {
        "colab": {
          "base_uri": "https://localhost:8080/"
        },
        "id": "xersDeZ7afmM",
        "outputId": "683bd9ed-5bf2-4a96-848d-52ed2cd81c49"
      },
      "execution_count": 5,
      "outputs": [
        {
          "output_type": "stream",
          "name": "stdout",
          "text": [
            "1.6601371967362137\n"
          ]
        }
      ]
    },
    {
      "cell_type": "markdown",
      "source": [
        "# Caso 3:\n",
        "Distribución Normal\n",
        "Dada una variable aleatoria continua Z, con distribución normal estándar,\n",
        "es decir, 𝑁(0,1), encuentre las siguientes probabilidades, usando código\n",
        "py.\n",
        "a) 𝑃(0 < 𝑍 < 1,25) =\n",
        "b) 𝑃(𝑍 > 1,25) =\n",
        "c) 𝑃(𝑍 < −1,25) =\n",
        "d) 𝑃(0 < 𝑍 < 1,33) =\n",
        "e) 𝑃(𝑍 > 1,33) =\n",
        "f) 𝑃(−1,33 < 𝑍 < 0) ="
      ],
      "metadata": {
        "id": "aW5T93KuUzf-"
      }
    },
    {
      "cell_type": "code",
      "source": [
        "# Definir la distribución normal estándar llamda Z, la media es 0 y la desviación estándar es 1\n",
        "Z = ss.norm(0, 1)\n",
        "\n",
        "#se calcula la probabilidad acumulada de Z sea <= a 1.25 y o\n",
        "# a) P(0 < Z < 1.25)\n",
        "prob_a = Z.cdf(1.25) - Z.cdf(0)\n",
        "print(\"P(0 < Z < 1.25) es:\", prob_a)\n",
        "\n",
        "# b) P(Z > 1.25)\n",
        "prob_b = 1 - Z.cdf(1.25)\n",
        "print(\"P(Z > 1.25) es:\", prob_b)\n",
        "\n",
        "# c) P(Z < -1.25)\n",
        "prob_c = Z.cdf(-1.25)\n",
        "print(\"P(Z < -1.25) es:\", prob_c)\n",
        "\n",
        "# d) P(0 < Z < 1.33)\n",
        "prob_d = Z.cdf(1.33) - Z.cdf(0)\n",
        "print(\"P(0 < Z < 1.33) es:\", prob_d)\n",
        "\n",
        "# e) P(Z > 1.33)\n",
        "prob_e = 1 - Z.cdf(1.33)\n",
        "print(\"P(Z > 1.33) es:\", prob_e)\n",
        "\n",
        "# f) P(-1.33 < Z < 0)\n",
        "prob_f = Z.cdf(0) - Z.cdf(-1.33)\n",
        "print(\"P(-1.33 < Z < 0) es:\", prob_f)\n"
      ],
      "metadata": {
        "colab": {
          "base_uri": "https://localhost:8080/"
        },
        "id": "OB-WDuJ0d9DN",
        "outputId": "4510391c-4383-4953-9467-c09b231b0a50"
      },
      "execution_count": 7,
      "outputs": [
        {
          "output_type": "stream",
          "name": "stdout",
          "text": [
            "P(0 < Z < 1.25) es: 0.39435022633314465\n",
            "P(Z > 1.25) es: 0.10564977366685535\n",
            "P(Z < -1.25) es: 0.10564977366685535\n",
            "P(0 < Z < 1.33) es: 0.4082408643497193\n",
            "P(Z > 1.33) es: 0.09175913565028071\n",
            "P(-1.33 < Z < 0) es: 0.40824086434971923\n"
          ]
        }
      ]
    },
    {
      "cell_type": "markdown",
      "source": [
        "# Caso 4:\n",
        " Distribución Normal para la aplicación de exámenes.\n",
        "Se supone que los resultados de un examen siguen una distribución normal\n",
        "con media 78 y desviación típica 36.\n",
        "Se pide:"
      ],
      "metadata": {
        "id": "AfsAOknAU8Ym"
      }
    },
    {
      "cell_type": "markdown",
      "source": [
        "● ¿Cuál es la probabilidad de que una persona que se presenta el\n",
        "examen obtenga una calificación superior a 72?\n"
      ],
      "metadata": {
        "id": "RoS4q47sVD9m"
      }
    },
    {
      "cell_type": "markdown",
      "source": [
        "● Calcular la proporción de estudiantes que tienen puntuaciones que\n",
        "exceden por lo menos en cinco puntos de la puntuación que marca\n",
        "la frontera entre el Apto y el No-Apto (son declarados No-Aptos\n",
        "el 25% de los estudiantes que obtuvieron las puntuaciones más\n",
        "bajas).\n"
      ],
      "metadata": {
        "id": "lR7sothtVGOK"
      }
    },
    {
      "cell_type": "markdown",
      "source": [
        "● Si se sabe que la calificación de un estudiante es mayor que 72,\n",
        "¿cuál es la probabilidad de que su calificación sea, de hecho,\n",
        "superior a 84?"
      ],
      "metadata": {
        "id": "54tojLJNVIgh"
      }
    },
    {
      "cell_type": "code",
      "source": [
        "mu = 78\n",
        "sigma = 36\n",
        "\n",
        "#cdf: distribución acumulativa de la distribución normal\n",
        "#calcula la probabilidad acumulada de que una calificación sea menor o igual a 72\n",
        "#a 1 se le resta lo anterior para obtener la probabilidad de obtener una calificación superior a 72.\n",
        "probabilidad_superior_72 = 1 - norm.cdf(72, mu, sigma)\n",
        "print(\"Probabilidad de obtener una calificación superior a 72:\", probabilidad_superior_72)\n",
        "\n",
        "#calcula puntuación sobre el 25%\n",
        "#ppf:función inversa de la distribución acumulativa\n",
        "frontera_apto_no_apto = norm.ppf(0.25, mu, sigma)\n",
        "#calcula excede frontera en 5 puntos\n",
        "probabilidad_exceder_frontera = 1 - norm.cdf(frontera_apto_no_apto + 5, mu, sigma)\n",
        "print(\"Proporción de estudiantes que exceden la frontera por al menos 5 puntos:\", probabilidad_exceder_frontera)\n",
        "\n",
        "#Divide esta probabilidad por la probabilidad de obtener una calificación superior a 72\n",
        "#con esto damos la condición de que una calificación sea superior a 84 dado que es mayor que 72\n",
        "probabilidad_3 = (1 - norm.cdf(84, mu, sigma)) / probabilidad_superior_72\n",
        "print(\"Probabilidad de que la calificación sea superior a 84 dado que es mayor que 72:\", probabilidad_3)"
      ],
      "metadata": {
        "colab": {
          "base_uri": "https://localhost:8080/"
        },
        "id": "dBJ_DFJTgxaU",
        "outputId": "7369d9cc-0578-40ae-eb58-329381c7423a"
      },
      "execution_count": 9,
      "outputs": [
        {
          "output_type": "stream",
          "name": "stdout",
          "text": [
            "Probabilidad de obtener una calificación superior a 72: 0.5661838326109037\n",
            "Proporción de estudiantes que exceden la frontera por al menos 5 puntos: 0.7038827833189224\n",
            "Probabilidad de que la calificación sea superior a 84 dado que es mayor que 72: 0.7662108001010798\n"
          ]
        }
      ]
    },
    {
      "cell_type": "markdown",
      "source": [
        "# Caso 5:\n",
        "Distribución Binomial.\n",
        "Uno de los ítems de una prueba sorpresa consta de 12 preguntas de\n",
        "verdadero o falso. Suponiendo que los estudiantes no saben contestar a\n",
        "ninguna de ellas y, contestan al azar, hallar la probabilidad de obtener seis\n",
        "aciertos."
      ],
      "metadata": {
        "id": "Q8CylwjvVNKV"
      }
    },
    {
      "cell_type": "code",
      "source": [
        "nro_preguntas = 12\n",
        "k_aciertos = 6\n",
        "p = 0.5 # son verdadero o falso, o sea, 2 opciones.\n",
        "\n",
        "# Probabilidad de obtener exactamente 6 aciertos\n",
        "#pmf: función de masa de probabilidad de la distribución binomial.\n",
        "#aquí calcula la probabilidad de lograr k_aciertos en nro_preguntas,\n",
        "#donde la probabilidad de éxito en cada ensayo es p.\n",
        "probabilidad_seis_aciertos = binom.pmf(k_aciertos, nro_preguntas, p)\n",
        "print(\"Probabilidad de obtener seis aciertos:\", probabilidad_seis_aciertos)"
      ],
      "metadata": {
        "colab": {
          "base_uri": "https://localhost:8080/"
        },
        "id": "fbShpjIgjj4-",
        "outputId": "c7adb81c-8786-4536-9285-2615ce58f56c"
      },
      "execution_count": 13,
      "outputs": [
        {
          "output_type": "stream",
          "name": "stdout",
          "text": [
            "Probabilidad de obtener seis aciertos: 0.2255859375000002\n"
          ]
        }
      ]
    }
  ]
}