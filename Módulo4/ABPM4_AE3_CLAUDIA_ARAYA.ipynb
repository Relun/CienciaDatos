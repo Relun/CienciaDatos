{
  "nbformat": 4,
  "nbformat_minor": 0,
  "metadata": {
    "colab": {
      "provenance": []
    },
    "kernelspec": {
      "name": "python3",
      "display_name": "Python 3"
    },
    "language_info": {
      "name": "python"
    }
  },
  "cells": [
    {
      "cell_type": "markdown",
      "source": [
        "Realizar cálculos de probabilidad utilizando la distribución muestral\n",
        "para resolver un problema"
      ],
      "metadata": {
        "id": "HgyPZi8Alje7"
      }
    },
    {
      "cell_type": "markdown",
      "source": [
        "Caso 1: Muestreo estratificado con afijación proporcional\n",
        "\n",
        "Se desea tomar una muestra aleatoria estratificada de las personas mayores\n",
        "de edad de un municipio, cuyos estratos son los siguientes intervalos de\n",
        "edades, en años: de 18 a 30, de 31 a 45, de 46 a 60 y mayores de 60. En el\n",
        "primer intervalo hay 7500 personas, en el segundo hay 8400, en el tercero\n",
        "5700 y en el cuarto 3000.\n",
        "Calcule el tamaño de la muestra total y su composición, sabiendo que el\n",
        "muestreo se hace con afijación proporcional y se han elegido al azar 375\n",
        "personas del primer estrato."
      ],
      "metadata": {
        "id": "4aO5YE8nloaV"
      }
    },
    {
      "cell_type": "code",
      "source": [
        "import pandas as pd\n",
        "import numpy as np\n",
        "from scipy.stats import norm\n",
        "from statistics import mean"
      ],
      "metadata": {
        "id": "lvhefcVLaoCZ"
      },
      "execution_count": 22,
      "outputs": []
    },
    {
      "cell_type": "code",
      "source": [
        "#creación de un dataframe con la cantidad de personas por intervalo\n",
        "df = pd.DataFrame({'Intervalos': ['18 a 30', '31 a 45','46 a 60','> 60'],\n",
        "                   'Personas': [7500, 8400,5700,3000]})\n",
        "\n",
        "#muestra azar primer intervalo\n",
        "intervalo1 = 375\n",
        "\n",
        "#proporción primer intervalo\n",
        "proporcion1 = intervalo1 / df.iloc[0,1]\n",
        "\n",
        "#proporción de todos los intervalos\n",
        "df['Muestras'] = df['Personas'] * proporcion1\n",
        "print(df)\n",
        "\n",
        "#calculo muestra total\n",
        "muestra_total_proporcional = df['Muestras'] .sum()\n",
        "muestra_total = df['Personas'].sum()\n",
        "print(f'Tamaño muestra proporcional {muestra_total_proporcional}')\n",
        "print(f'Tamaño muestra total de personas {muestra_total}')\n"
      ],
      "metadata": {
        "id": "nmgFVxdylzcT",
        "colab": {
          "base_uri": "https://localhost:8080/"
        },
        "outputId": "8bd2f6c9-b6cd-4a6f-9f93-adb9718ad85a"
      },
      "execution_count": 23,
      "outputs": [
        {
          "output_type": "stream",
          "name": "stdout",
          "text": [
            "  Intervalos  Personas  Muestras\n",
            "0    18 a 30      7500     375.0\n",
            "1    31 a 45      8400     420.0\n",
            "2    46 a 60      5700     285.0\n",
            "3       > 60      3000     150.0\n",
            "Tamaño muestra proporcional 1230.0\n",
            "Tamaño muestra total de personas 24600\n"
          ]
        }
      ]
    },
    {
      "cell_type": "markdown",
      "source": [
        "Caso 2\n",
        "En un instituto hay 110 alumnos de 1º ESO, 99 de 2º ESO, 77 de 3º ESO y\n",
        "66 de 4º ESO. Se toma una muestra para hacer una encuesta, usando\n",
        "muestreo estratificado con afijación proporcional. Se sabe que en la muestra\n",
        "había 20 alumnos de 1º ESO. ¿Cuántos alumnos hay en la muestra de los\n",
        "demás cursos y cuál es el tamaño de la muestra?"
      ],
      "metadata": {
        "id": "0yMtWuMslrhx"
      }
    },
    {
      "cell_type": "code",
      "execution_count": 26,
      "metadata": {
        "id": "pebXMRJslaj7",
        "colab": {
          "base_uri": "https://localhost:8080/"
        },
        "outputId": "0e2f0b20-6c39-482c-d0cc-d44cccce2595"
      },
      "outputs": [
        {
          "output_type": "stream",
          "name": "stdout",
          "text": [
            "Para 1º ESO: 20 alumnos en la muestra.\n",
            "Para 2º ESO: 18 alumnos en la muestra.\n",
            "Para 3º ESO: 14 alumnos en la muestra.\n",
            "Para 4º ESO: 12 alumnos en la muestra.\n",
            "\n",
            "Tamaño de la muestra: 84\n"
          ]
        }
      ],
      "source": [
        "# Diccionario con los datos de población por curso\n",
        "poblacion = {\n",
        "    '1º ESO': 110,\n",
        "    '2º ESO': 99,\n",
        "    '3º ESO': 77,\n",
        "    '4º ESO': 66\n",
        "}\n",
        "\n",
        "# Tamaño de la muestra para 1º ESO\n",
        "muestra_1eso = 20\n",
        "\n",
        "# Tamaño total de la población\n",
        "total_poblacion = sum(poblacion.values())\n",
        "\n",
        "# Proporción de la muestra de 1º ESO respecto a su población\n",
        "proporcion_muestra_1eso = muestra_1eso / poblacion['1º ESO']\n",
        "\n",
        "# Cálculo del tamaño de la muestra para los demás cursos\n",
        "#se multiplica la cantidad de alumnos por curso x la proporción\n",
        "muestra = {} #guarda el tamaño de la muestra de cada curso\n",
        "for curso, num_alumnos in poblacion.items():\n",
        "    if curso != '1º ESO':  # Se excluye 1º ESO porque ya conocemos su muestra\n",
        "        muestra[curso] = round(num_alumnos * proporcion_muestra_1eso)\n",
        "\n",
        "# agregando el primer indice\n",
        "muestra['1º ESO'] = 20\n",
        "\n",
        "# ordenando la muestra de menor a mayor ESO\n",
        "muestra = dict(sorted(muestra.items()))#dict() convierte las tuplas ordenas en un diccionario\n",
        "\n",
        "# Tamaño total de la muestra\n",
        "tamaño_muestra = sum(muestra.values()) + muestra_1eso\n",
        "\n",
        "#for itera sobre \"muestra\", entregando el curso y nro de alumnos correspondiente\n",
        "for curso, num_alumnos in muestra.items():\n",
        "    print(f'Para {curso}: {num_alumnos} alumnos en la muestra.')\n",
        "\n",
        "print(f\"\\nTamaño de la muestra: {tamaño_muestra}\")"
      ]
    },
    {
      "cell_type": "markdown",
      "source": [
        "Caso 3\n",
        "Si el contenido en gr. de un determinado medicamento X sigue una\n",
        "distribución N(7.5,0.3), calcular la probabilidad de que para una\n",
        "muestra de tamaño n=5, se obtenga medio menor que 7, Pr ( X ≤ 7)."
      ],
      "metadata": {
        "id": "5bx1MUfkltm_"
      }
    },
    {
      "cell_type": "code",
      "source": [
        "mu = 7.5\n",
        "sigma = 0.3\n",
        "n = 5\n",
        "X = 7\n",
        "\n",
        "#calcula probabilidad con distribución normal\n",
        "#cdf: función de distribución acumulativa, np.sqrt: raiz cuadrada\n",
        "p = norm.cdf(X, mu, sigma / np.sqrt(n))\n",
        "\n",
        "print('La probabilidad es de: {:.4f}'.format(p))"
      ],
      "metadata": {
        "colab": {
          "base_uri": "https://localhost:8080/"
        },
        "id": "xPfojuEUn8uH",
        "outputId": "f7c04cfc-1f3f-429a-c771-1cb34636841e"
      },
      "execution_count": 25,
      "outputs": [
        {
          "output_type": "stream",
          "name": "stdout",
          "text": [
            "La probabilidad es de: 0.0001\n"
          ]
        }
      ]
    }
  ]
}