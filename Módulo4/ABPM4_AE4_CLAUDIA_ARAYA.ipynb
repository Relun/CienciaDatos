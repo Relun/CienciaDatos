{
  "nbformat": 4,
  "nbformat_minor": 0,
  "metadata": {
    "colab": {
      "provenance": []
    },
    "kernelspec": {
      "name": "python3",
      "display_name": "Python 3"
    },
    "language_info": {
      "name": "python"
    }
  },
  "cells": [
    {
      "cell_type": "markdown",
      "source": [
        "Realizar estimaciones de la media de una población utilizando intervalos\n",
        "de confianza a partir de una muestra aleatoria."
      ],
      "metadata": {
        "id": "Lp_cYxugzege"
      }
    },
    {
      "cell_type": "code",
      "source": [
        "import numpy as np\n",
        "from scipy.stats import norm\n",
        "from scipy import stats\n",
        "import scipy.stats as ss"
      ],
      "metadata": {
        "id": "SXkKBh2Kz8iZ"
      },
      "execution_count": 17,
      "outputs": []
    },
    {
      "cell_type": "markdown",
      "source": [
        "Caso 1\n",
        "\n",
        "Para estimar la proporción de habitantes de una ciudad que poseen\n",
        "ordenador personal se toma una muestra de tamaño n. Calcula el valor\n",
        "mínimo de n para garantizar, con un nivel de confianza del 95 %, que el error\n",
        "de estimación no supera el 2 %. (Como se desconoce la proporción, se hará\n",
        "a partir del caso más desfavorable, que será 0,5)."
      ],
      "metadata": {
        "id": "zHDA-0Dozfxd"
      }
    },
    {
      "cell_type": "markdown",
      "source": [
        "Fórmula:\n",
        "\n",
        "n = (z^2 * p * (1-p)) / e^2"
      ],
      "metadata": {
        "id": "fCmUkv4M1Fn6"
      }
    },
    {
      "cell_type": "code",
      "execution_count": 12,
      "metadata": {
        "colab": {
          "base_uri": "https://localhost:8080/"
        },
        "id": "sZwVBXLRuAwn",
        "outputId": "d3ea792e-1745-427e-a71a-706d8d268f0e"
      },
      "outputs": [
        {
          "output_type": "stream",
          "name": "stdout",
          "text": [
            "Valor mínimo de n: 2401.0\n"
          ]
        }
      ],
      "source": [
        "confianza = 0.95\n",
        "e = 0.02 #error\n",
        "p = 0.5  # Caso más desfavorable\n",
        "\n",
        "#Cálculo del valor crítico de la distribución normal estándar\n",
        "Z = stats.norm.ppf((1 + confianza) / 2)\n",
        "\n",
        "#Cálculo del tamaño de la muestra\n",
        "n = (Z**2 * p * (1-p)) / (e**2)\n",
        "print(f'Valor mínimo de n: {n.round()}')"
      ]
    },
    {
      "cell_type": "markdown",
      "source": [
        "Caso 2\n",
        "\n",
        "Un fabricante de electrodomésticos sabe que la vida media de estos sigue\n",
        "una distribución normal con media 100 meses y desviación típica 12 meses.\n",
        "Determina el mínimo tamaño muestral que garantiza, con una probabilidad\n",
        "de 0,98, que la vida media de los electrodomésticos en dicha muestra se\n",
        "encuentre entre 90 y 100 meses."
      ],
      "metadata": {
        "id": "bCaKtWr8zmwl"
      }
    },
    {
      "cell_type": "markdown",
      "source": [
        "Fórmula\n",
        "\n",
        "n = (z^2 * sigma^2) / e^2"
      ],
      "metadata": {
        "id": "WL7Isug3Dct_"
      }
    },
    {
      "cell_type": "code",
      "source": [
        "mu = 100\n",
        "sigma = 12\n",
        "probabilidad = 0.98\n",
        "e = 5 #error: (100-90)/2\n",
        "\n",
        "#Cálcula los valores críticos de la distribución t de Student\n",
        "Z = stats.norm.ppf((1 + probabilidad) / 2)\n",
        "\n",
        "#Cálculo del tamaño de la muestra\n",
        "n = (Z**2 * sigma**2) / (e**2)\n",
        "\n",
        "print(f'Valor mínimo de n: {n.round()}')"
      ],
      "metadata": {
        "colab": {
          "base_uri": "https://localhost:8080/"
        },
        "id": "nHcf_i5RDfMq",
        "outputId": "cd39ee4a-ff90-43be-a94c-0baf6dd0550e"
      },
      "execution_count": 14,
      "outputs": [
        {
          "output_type": "stream",
          "name": "stdout",
          "text": [
            "Valor mínimo de n: 31.0\n"
          ]
        }
      ]
    },
    {
      "cell_type": "markdown",
      "source": [
        "Caso 3\n",
        "\n",
        "Se desea obtener la media de una variable aleatoria que se distribuye\n",
        "normalmente con una desviación típica de 3,2. Para ello se toma una\n",
        "muestra de 64 individuos obteniéndose una media de 32,5."
      ],
      "metadata": {
        "id": "TeOQOUZ2zpwR"
      }
    },
    {
      "cell_type": "markdown",
      "source": [
        "a) ¿Con qué nivel de confianza se puede afirmar que la media de la\n",
        "población está entre 31,5 y 33,5?"
      ],
      "metadata": {
        "id": "s1ewfkrJztXe"
      }
    },
    {
      "cell_type": "code",
      "source": [
        "mu = 32.5\n",
        "sigma = 3.2\n",
        "n = 64\n",
        "lim_inferior = 31.5\n",
        "lim_superior = 33.5\n",
        "\n",
        "# Error estándar de la media\n",
        "error_estandar = sigma / np.sqrt(n)\n",
        "#print(error_estandar)\n",
        "\n",
        "# Calculamos los Z-scores correspondientes a los límites del intervalo de confianza\n",
        "z_score_inferior = (lim_inferior - mu) / error_estandar\n",
        "z_score_superior = (lim_superior - mu) / error_estandar\n",
        "#print(z_score_inferior)\n",
        "#print(z_score_superior)\n",
        "\n",
        "# Encontramos los niveles de probabilidad acumulada correspondientes a dichos Z-scores\n",
        "probabilidad_acumulada_inferior = ss.norm.cdf(z_score_inferior)\n",
        "probabilidad_acumulada_superior = ss.norm.cdf(z_score_superior)\n",
        "#print(probabilidad_acumulada_inferior)\n",
        "#print(probabilidad_acumulada_superior)\n",
        "\n",
        "# El nivel de confianza está entre los Z-scores inferior y superior (en ambos extremos)\n",
        "nivel_confianza = probabilidad_acumulada_superior - probabilidad_acumulada_inferior\n",
        "#print(nivel_confianza)\n",
        "\n",
        "print(f\"El nivel de confianza para que la media esté entre 31,5 y 33,5 es: {nivel_confianza * 100:.2f}%\")"
      ],
      "metadata": {
        "colab": {
          "base_uri": "https://localhost:8080/"
        },
        "id": "I9MlI6hvFDKs",
        "outputId": "e5463349-10bf-4b0e-8c9b-d4986e9fdccc"
      },
      "execution_count": 19,
      "outputs": [
        {
          "output_type": "stream",
          "name": "stdout",
          "text": [
            "El nivel de confianza para que la media esté entre 31,5 y 33,5 es: 98.76%\n"
          ]
        }
      ]
    },
    {
      "cell_type": "markdown",
      "source": [
        "b) Si la desviación típica de la población fuera 3, ¿qué tamaño mínimo\n",
        "debería tener la muestra con la cual estimamos la media poblacional\n",
        "si queremos que el nivel de confianza sea del 99 %, y el error admisible\n",
        "no supere el valor de 0,75?"
      ],
      "metadata": {
        "id": "KsWzUaANzvto"
      }
    },
    {
      "cell_type": "code",
      "source": [
        "sigma = 3\n",
        "e = 0.75  #errror\n",
        "confianza = 0.99\n",
        "\n",
        "#Cálculo del valor crítico de la distribución normal estándar\n",
        "Z = stats.norm.ppf((1 + confianza) / 2)\n",
        "\n",
        "#Cálculo del tamaño mínimo\n",
        "n = (Z**2 * sigma**2) / (e**2)\n",
        "print(f'Tamaño mínimo de la muestra: {n.round()}')"
      ],
      "metadata": {
        "colab": {
          "base_uri": "https://localhost:8080/"
        },
        "id": "dtUjtWeqKe88",
        "outputId": "3ac541af-3a0e-444f-da55-2a4c0def74f5"
      },
      "execution_count": 31,
      "outputs": [
        {
          "output_type": "stream",
          "name": "stdout",
          "text": [
            "Tamaño mínimo de la muestra: 106.0\n"
          ]
        }
      ]
    }
  ]
}