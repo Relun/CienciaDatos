{
  "nbformat": 4,
  "nbformat_minor": 0,
  "metadata": {
    "colab": {
      "provenance": []
    },
    "kernelspec": {
      "name": "python3",
      "display_name": "Python 3"
    },
    "language_info": {
      "name": "python"
    }
  },
  "cells": [
    {
      "cell_type": "markdown",
      "source": [
        "Caso 1\n",
        "\n",
        "Se lanzan dos dados al aire y se anota la suma de los puntos obtenidos. Se\n",
        "pide:\n",
        "\n",
        "● probabilidad de que salga el 7.\n",
        "\n",
        "● La probabilidad de que el número obtenido sea par.\n",
        "\n",
        "● La probabilidad de que el número obtenido sea múltiplo de 3"
      ],
      "metadata": {
        "id": "7sc1jz80Sk0T"
      }
    },
    {
      "cell_type": "markdown",
      "source": [
        "### El total de la muestra son 36:\n",
        "(1, 1), (1, 2), (1, 3), (1, 4), (1, 5), (1, 6), (2, 1), (2, 2), (2, 3), (2, 4), (2, 5), (2, 6), (3, 1), (3, 2), (3, 3), (3, 4), (3, 5), (3, 6), (4, 1), (4, 2), (4, 3), (4, 4), (4, 5), (4, 6), (5, 1), (5, 2), (5, 3), (5, 4), (5, 5), (5, 6), (6, 1), (6, 2), (6, 3), (6, 4), (6, 5), (6, 6).\n",
        "\n",
        "### Los eventos de que salga 7 son 6:\n",
        "(1, 6), (2, 5), (3, 4), (4, 3), (5, 2), (6, 1)\n",
        "\n",
        "### La probabilidad es 6/36 = 0.1666\n",
        "\n",
        "### Los eventos de que salga un número par son 18:\n",
        "(1, 1),(1, 3), (2, 2), (3, 1),(1, 5), (2, 4), (3, 3), (4, 2), (5, 1),(2, 6), (3, 5), (4, 4), (5, 3), (6, 2),(4, 6), (5, 5), (6, 4),(6, 6)\n",
        "\n",
        "### La probabilidad es 18/36 = 0.5\n",
        "\n",
        "### Los eventos de que salga un múltiplo de 3 son 12:\n",
        "(1, 2), (2, 1),(1, 5), (2, 4), (3, 3), (4, 2), (5, 1),(3, 6), (4, 5), (5, 4), (6, 3),(6, 6)\n",
        "\n",
        "### La probabilidad es 12/36 = 0.3333\n",
        "\n",
        "\n"
      ],
      "metadata": {
        "id": "Gr79zRk0U9pH"
      }
    },
    {
      "cell_type": "code",
      "source": [
        "import numpy as np"
      ],
      "metadata": {
        "id": "TloLrOT3fzS6"
      },
      "execution_count": 2,
      "outputs": []
    },
    {
      "cell_type": "code",
      "source": [
        "#Cantidad de lanzamientos simulados, mientras más grande, mejor será la estimación\n",
        "lanzamientos = 1000000\n",
        "\n",
        "#Lanza los dados y calcula la suma de los lanzamientos\n",
        "dados = np.random.randint(1, 7, size=(lanzamientos, 2)) #rango del 1 al 6, con 2 dados al azar\n",
        "suma_lanzamientos = np.sum(dados, axis=1) #axis=1 índica que suma se da entre elementos de la fila, (axis=0 índica calculo entre elementos de la columna)\n",
        "\n",
        "#Calcula la probabilidad de que la suma de los dados sea 7\n",
        "siete = np.sum(suma_lanzamientos == 7)\n",
        "probabilidad_7 = siete / lanzamientos\n",
        "\n",
        "#Calcula probabilidad de que la suma obtenida sea número par\n",
        "pares = np.sum(suma_lanzamientos % 2 == 0)\n",
        "probabilidad_par = pares / lanzamientos\n",
        "\n",
        "#Calcular probabilidad de que el número obtenido sea múltiplo de 3\n",
        "multiplos_de_3 = np.sum(suma_lanzamientos % 3 == 0)\n",
        "probabilidad_multiplo_de_3 = multiplos_de_3 / lanzamientos\n",
        "\n",
        "print(f\"Probabilidad de que salga el 7 : {probabilidad_7:.2f}\")\n",
        "print(f\"Probabilidad de obtener un número par: {probabilidad_par:.2f}\")\n",
        "print(f\"Probabilidad de obtener un múltiplo de 3: {probabilidad_multiplo_de_3:.2f}\")"
      ],
      "metadata": {
        "colab": {
          "base_uri": "https://localhost:8080/"
        },
        "id": "MczOSRPVaO57",
        "outputId": "7d0e9e94-8245-4231-d1ca-843982ecaa76"
      },
      "execution_count": 3,
      "outputs": [
        {
          "output_type": "stream",
          "name": "stdout",
          "text": [
            "Probabilidad de que salga el 7 : 0.17\n",
            "Probabilidad de obtener un número par: 0.50\n",
            "Probabilidad de obtener un múltiplo de 3: 0.33\n"
          ]
        }
      ]
    },
    {
      "cell_type": "markdown",
      "source": [
        "Caso 2\n",
        "\n",
        "Se lanzan al aire 3 monedas iguales. Calcula la probabilidad de que salgan\n",
        "dos caras y una cruz."
      ],
      "metadata": {
        "id": "LEN-_9vKSmld"
      }
    },
    {
      "cell_type": "markdown",
      "source": [
        "El total de las opciones son 8: (c,c,c)(c,c,s)(c,s,s)(s,c,c)(s,c,s)(s,s,c)(c,s,c)(s,s,s)\n",
        "\n",
        "Al lanzar 3 veces, estás son las opciones de que salgan 2 caras:\n",
        "(c,c,s), (c,s,c), (s,c,c)\n",
        "\n",
        "La probabilidad es de 3/8 = 0.375\n",
        "\n"
      ],
      "metadata": {
        "id": "jJ2E0VpWzD7N"
      }
    },
    {
      "cell_type": "code",
      "source": [
        "#Cantidad de lanzamientos simulados, mientras más grande, mejor será la estimación\n",
        "lanzamientos = 1000000\n",
        "\n",
        "#lanza las 3 monedas\n",
        "#choice elige un valor al azar en un conjunto de elementos (cara y cruz)\n",
        "monedas = np.random.choice(['Cara', 'Cruz'], size=(lanzamientos,3))\n",
        "\n",
        "#calcula la probabilidad de que se den 2 caras y 1 cruz\n",
        "#suma cuántas veces aparece cara en el array que se crea con las 3 monedas\n",
        "contador_dos_caras = np.sum((monedas == 'Cara').sum(axis=1) == 2)\n",
        "probabilidad = contador_dos_caras / lanzamientos\n",
        "print(f\"Probabilidad de que salgan dos caras y una cruz es de : {probabilidad:.2f}\")"
      ],
      "metadata": {
        "colab": {
          "base_uri": "https://localhost:8080/"
        },
        "id": "9Tewm_DKf5Bh",
        "outputId": "b0532426-38ee-41cc-fd8f-7ad4230400b1"
      },
      "execution_count": 4,
      "outputs": [
        {
          "output_type": "stream",
          "name": "stdout",
          "text": [
            "Probabilidad de que salgan dos caras y una cruz es de : 0.38\n"
          ]
        }
      ]
    },
    {
      "cell_type": "markdown",
      "source": [
        "Caso 3:\n",
        "\n",
        "Considere un dado cargado, esto es que las probabilidades de obtener las\n",
        "distintas caras son proporcionales a los números de estas.\n",
        "Hallar:\n",
        "\n",
        "● La probabilidad de obtener el 6 en un lanzamiento.\n",
        "\n",
        "● La probabilidad de conseguir un número impar en un lanzamiento."
      ],
      "metadata": {
        "id": "Ms17byHWSpfH"
      }
    },
    {
      "cell_type": "markdown",
      "source": [
        "P de cada número = 1x+2x+3x+4x+5x+6x = 1 (la sumatoria de todas las probabilidades es 1)\n",
        "x= 1/21  \n",
        "\n",
        "P(6) = 6/21 = 0.2857\n",
        "\n",
        "P(impar) = (1/21) + (3/21) + (5/21) = 9/21 = 0.4285"
      ],
      "metadata": {
        "id": "lspjzQ9P5tt-"
      }
    },
    {
      "cell_type": "code",
      "source": [
        "dado = [1, 2, 3, 4, 5, 6] #las caras del dado\n",
        "probabilidad = dado/ np.sum(dado)#calcula la proporcionalidad de cada cara del dado\n",
        "probabilidad_6 = probabilidad[5] #el 6 está en la posición 5\n",
        "probabilidad_impar = probabilidad[0]+probabilidad[2]+probabilidad[4]\n",
        "\n",
        "print(f'Probabilidad de obtener un 6: {probabilidad_6}')\n",
        "print(f'Probabilidad de número impar: {probabilidad_impar}')\n"
      ],
      "metadata": {
        "id": "1PuI3GDni0sc",
        "colab": {
          "base_uri": "https://localhost:8080/"
        },
        "outputId": "07fa8773-189b-4f7d-eb6d-12bfb5635a44"
      },
      "execution_count": 17,
      "outputs": [
        {
          "output_type": "stream",
          "name": "stdout",
          "text": [
            "Probabilidad de obtener un 6: 0.2857142857142857\n",
            "Probabilidad de número impar: 0.42857142857142855\n"
          ]
        }
      ]
    },
    {
      "cell_type": "markdown",
      "source": [
        "Caso 4\n",
        "\n",
        "Una bolsa contiene 2 bolas negras y 3 bolas blancas. Otra bolsa tiene 4 bolas\n",
        "negras y 2 blancas. Se elige una de las bolsas al azar y se extrae una bola.\n",
        "Calcular la probabilidad de:\n",
        "\n",
        "● La bola es blanca y de la primera bolsa.\n",
        "\n",
        "● La bola es blanca.\n",
        "\n",
        "Si la bola es negra, ¿cuál es la probabilidad de que sea de la segunda\n",
        "bolsa?"
      ],
      "metadata": {
        "id": "Ajw2s3Z8St_J"
      }
    },
    {
      "cell_type": "markdown",
      "source": [
        "Por Teorema de Bayes\n",
        "\n",
        "A: Elegir la primera bolsa.\n",
        "\n",
        "B: Elegir la segunda bolsa.\n",
        "\n",
        "W: Extraer una bola blanca.\n",
        "\n",
        "B1 : La bola proviene de la primera bolsa.\n",
        "\n",
        "B2: La bola proviene de la segunda bolsa.\n",
        "\n",
        "Dado que la selección de la bolsa es al azar, la probabilidad de elegir cada bolsa es\n",
        "\n",
        "P(A)=P(B)=1/2\n",
        "\n",
        "Luego, se calcula:\n",
        "\n",
        "1) Probabilidad de que la bola sea blanca y de la primera bolsa:\n",
        "\n",
        "P(W ∩ B1) = P(B1) * P(W|B1)\n",
        "\n",
        "2) Probabilidad de que la bola sea blanca:\n",
        "\n",
        "p(w) = P(w ∩ B1) + P(w ∩ B2)\n",
        "\n",
        "3)Probabilidad de que la bola sea negra y de la segunda bolsa:\n",
        "\n",
        "P(B2|Negra) = P(B2) * P(Negra|B2) / P(Negra)\n",
        "\n",
        "\n",
        "\n"
      ],
      "metadata": {
        "id": "aCrZBAMoAh41"
      }
    },
    {
      "cell_type": "code",
      "execution_count": 19,
      "metadata": {
        "id": "uHleB9tdSfb-",
        "colab": {
          "base_uri": "https://localhost:8080/"
        },
        "outputId": "8907a7f4-cc37-420d-9051-93229f5c115a"
      },
      "outputs": [
        {
          "output_type": "stream",
          "name": "stdout",
          "text": [
            "Probabilidad de que la bola sea blanca y de la primera bolsa: 0.3\n",
            "Probabilidad de que la bola sea blanca: 0.4666666666666667\n",
            "Probabilidad de que la bola sea negra y de la segunda bolsa: 0.625\n"
          ]
        }
      ],
      "source": [
        "# Probabilidades iniciales\n",
        "P_A = P_B = 1/2\n",
        "\n",
        "# Probabilidades de sacar una bola blanca de cada bolsa\n",
        "bola_blanca_B1 = 3/5  # B1= primera bolsa\n",
        "bola_blanca_B2 = 2/6  # B2= segunda bolsa\n",
        "\n",
        "# Probabilidad de sacar una bola blanca de la primera bolsa\n",
        "blanca_y_B1 = P_A * bola_blanca_B1\n",
        "\n",
        "# Probabilidad de sacar una bola blanca de la segunda bolsa\n",
        "blanca_y_B2 = P_B * bola_blanca_B2\n",
        "\n",
        "# Probabilidad de sacar una bola blanca\n",
        "blanca = blanca_y_B1 + blanca_y_B2\n",
        "\n",
        "# Probabilidades de sacar una bola negra de cada bolsa\n",
        "bola_negra_B1 = 1 - bola_blanca_B1\n",
        "bola_negra_B2 = 1 - bola_blanca_B2\n",
        "\n",
        "# Probabilidad de sacar una bola negra\n",
        "negra = P_A * bola_negra_B1 + P_B * bola_negra_B2\n",
        "\n",
        "# Probabilidad de que la bola sea negra y de la segunda bolsa\n",
        "negra_y_B2 = (P_B * bola_negra_B2) /negra\n",
        "\n",
        "# Imprimir resultados\n",
        "print(\"Probabilidad de que la bola sea blanca y de la primera bolsa:\", blanca_y_B1)\n",
        "print(\"Probabilidad de que la bola sea blanca:\", blanca)\n",
        "print(\"Probabilidad de que la bola sea negra y de la segunda bolsa:\", negra_y_B2)\n"
      ]
    }
  ]
}